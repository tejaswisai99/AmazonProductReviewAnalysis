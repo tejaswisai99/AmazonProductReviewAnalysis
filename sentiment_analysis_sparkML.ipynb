{
 "cells": [
  {
   "cell_type": "markdown",
   "id": "ab7340e5-97c9-4bcb-8fa2-864b7703b09a",
   "metadata": {},
   "source": [
    "# **Project : Amazon Product Reviews :: Sentiment Analysis**\n",
    "\n",
    "### Authors:\n",
    "\n",
    "*   Chandramouli Sanchi(schandramoul@iisc.ac.in)\n",
    "*   Josyula Sai Tejaswi(tejaswisai@iisc.ac.in)\n",
    "*   Mupparthi Vikram(vikramm@iisc.ac.in)\n",
    "\n",
    "\n",
    "\n",
    "## Resources - https://www.kaggle.com/datasets/bittlingmayer/amazonreviews"
   ]
  },
  {
   "cell_type": "markdown",
   "id": "89daaea9-5f91-492b-96c8-80eebfebc04f",
   "metadata": {
    "tags": []
   },
   "source": [
    "### Spark setup"
   ]
  },
  {
   "cell_type": "code",
   "execution_count": 3,
   "id": "3e4ac7ea-277a-4dc5-bde1-63a043c3d32a",
   "metadata": {
    "tags": []
   },
   "outputs": [],
   "source": [
    "spark.stop()"
   ]
  },
  {
   "cell_type": "code",
   "execution_count": 1,
   "id": "a36bd9e7-e298-4b44-aff3-0c59d276403a",
   "metadata": {
    "tags": []
   },
   "outputs": [
    {
     "name": "stdout",
     "output_type": "stream",
     "text": [
      "Default Parallelism: 2\n"
     ]
    },
    {
     "data": {
      "text/html": [
       "\n",
       "            <div>\n",
       "                <p><b>SparkSession - in-memory</b></p>\n",
       "                \n",
       "        <div>\n",
       "            <p><b>SparkContext</b></p>\n",
       "\n",
       "            <p><a href=\"http://DESKTOP-TUHL9AH:4050\">Spark UI</a></p>\n",
       "\n",
       "            <dl>\n",
       "              <dt>Version</dt>\n",
       "                <dd><code>v3.5.0</code></dd>\n",
       "              <dt>Master</dt>\n",
       "                <dd><code>local[2]</code></dd>\n",
       "              <dt>AppName</dt>\n",
       "                <dd><code>Colab</code></dd>\n",
       "            </dl>\n",
       "        </div>\n",
       "        \n",
       "            </div>\n",
       "        "
      ],
      "text/plain": [
       "<pyspark.sql.session.SparkSession at 0x206d3d48790>"
      ]
     },
     "execution_count": 1,
     "metadata": {},
     "output_type": "execute_result"
    }
   ],
   "source": [
    "import findspark\n",
    "findspark.init()\n",
    "findspark.find()\n",
    "from pyspark.sql import SparkSession\n",
    "input_type = 'sample'\n",
    "spark = SparkSession.builder\\\n",
    "         .master(\"local[2]\")\\\n",
    "         .appName(\"Colab\")\\\n",
    "         .config('spark.ui.port', '4050').config(\"spark.executor.memory\", \"7g\").getOrCreate()\n",
    "default_parallelism = spark.sparkContext.defaultParallelism\n",
    "print(f\"Default Parallelism: {default_parallelism}\")\n",
    "spark"
   ]
  },
  {
   "cell_type": "markdown",
   "id": "a0288c1f-6c67-4693-ad8f-3bffc34e1c6c",
   "metadata": {},
   "source": [
    "### All the imports for this are mentioned here"
   ]
  },
  {
   "cell_type": "code",
   "execution_count": 31,
   "id": "927819ac-6682-45e7-a597-6d8021ec4b11",
   "metadata": {
    "tags": []
   },
   "outputs": [],
   "source": [
    "from pyspark.sql import Row\n",
    "from pyspark.sql.functions import expr, lower, regexp_replace, split, udf, regexp_extract, col,size,collect_list,count,explode,when,rand\n",
    "from pyspark.sql.types import ArrayType, StringType, DoubleType\n",
    "from pyspark.ml.feature import CountVectorizer, HashingTF, IDF, Tokenizer, StopWordsRemover,StringIndexer\n",
    "from pyspark.ml.classification import LogisticRegression, LinearSVC, DecisionTreeClassifier\n",
    "from pyspark.ml.evaluation import MulticlassClassificationEvaluator\n",
    "from pyspark.mllib.evaluation import MulticlassMetrics\n",
    "from pyspark.ml import PipelineModel\n",
    "from pyspark.sql import functions as F\n",
    "\n",
    "import matplotlib.pyplot as plt\n",
    "import numpy as np"
   ]
  },
  {
   "cell_type": "code",
   "execution_count": 6,
   "id": "cf063bad-4e20-4ecc-a8af-2a3497d007c5",
   "metadata": {
    "tags": []
   },
   "outputs": [],
   "source": [
    "train_df = spark.read.text(\"D:\\\\DE\\\\archive\\\\train.ft.txt.bz2\") #Please replace the correct path here.\n",
    "test_df = spark.read.text(\"D:\\\\DE\\\\archive\\\\test.ft.txt.bz2\") #Please replace the correct path here."
   ]
  },
  {
   "cell_type": "markdown",
   "id": "7f0fb5c4-c8d6-47d0-9d71-e082804b1d5f",
   "metadata": {},
   "source": [
    "### Exploratory Data Analysis"
   ]
  },
  {
   "cell_type": "code",
   "execution_count": 7,
   "id": "12d3039e-84ea-4d8f-9918-57142d0b236b",
   "metadata": {
    "tags": []
   },
   "outputs": [
    {
     "name": "stdout",
     "output_type": "stream",
     "text": [
      "+----------------------------------------------------------------------------------------------------------------------------------------------------------------------------------------------------------------------------------------------------------------------------------------------------------------------------------------------------------------------------------------------------------------------------------------------------------------------------------------------------------------------------------------+\n",
      "|value                                                                                                                                                                                                                                                                                                                                                                                                                                                                                                                                   |\n",
      "+----------------------------------------------------------------------------------------------------------------------------------------------------------------------------------------------------------------------------------------------------------------------------------------------------------------------------------------------------------------------------------------------------------------------------------------------------------------------------------------------------------------------------------------+\n",
      "|__label__2 Stuning even for the non-gamer: This sound track was beautiful! It paints the senery in your mind so well I would recomend it even to people who hate vid. game music! I have played the game Chrono Cross but out of all of the games I have ever played it has the best music! It backs away from crude keyboarding and takes a fresher step with grate guitars and soulful orchestras. It would impress anyone who cares to listen! ^_^                                                                                   |\n",
      "|__label__2 The best soundtrack ever to anything.: I'm reading a lot of reviews saying that this is the best 'game soundtrack' and I figured that I'd write a review to disagree a bit. This in my opinino is Yasunori Mitsuda's ultimate masterpiece. The music is timeless and I'm been listening to it for years now and its beauty simply refuses to fade.The price tag on this is pretty staggering I must say, but if you are going to buy any cd for this much money, this is the only one that I feel would be worth every penny.|\n",
      "+----------------------------------------------------------------------------------------------------------------------------------------------------------------------------------------------------------------------------------------------------------------------------------------------------------------------------------------------------------------------------------------------------------------------------------------------------------------------------------------------------------------------------------------+\n",
      "only showing top 2 rows\n",
      "\n",
      "+----------------------------------------------------------------------------------------------------------------------------------------------------------------------------------------------------------------------------------------------------------------------------------------------------------------------------------------------------------------------------------------------------------------------------------------------------------------------------------------------------------------------------------------------------------------+\n",
      "|value                                                                                                                                                                                                                                                                                                                                                                                                                                                                                                                                                           |\n",
      "+----------------------------------------------------------------------------------------------------------------------------------------------------------------------------------------------------------------------------------------------------------------------------------------------------------------------------------------------------------------------------------------------------------------------------------------------------------------------------------------------------------------------------------------------------------------+\n",
      "|__label__2 Great CD: My lovely Pat has one of the GREAT voices of her generation. I have listened to this CD for YEARS and I still LOVE IT. When I'm in a good mood it makes me feel better. A bad mood just evaporates like sugar in the rain. This CD just oozes LIFE. Vocals are jusat STUUNNING and lyrics just kill. One of life's hidden gems. This is a desert isle CD in my book. Why she never made it big is just beyond me. Everytime I play this, no matter black, white, young, old, male, female EVERYBODY says one thing \"Who was that singing ?\"|\n",
      "+----------------------------------------------------------------------------------------------------------------------------------------------------------------------------------------------------------------------------------------------------------------------------------------------------------------------------------------------------------------------------------------------------------------------------------------------------------------------------------------------------------------------------------------------------------------+\n",
      "only showing top 1 row\n",
      "\n"
     ]
    }
   ],
   "source": [
    "train_df.show(2, truncate=False)\n",
    "test_df.show(1, truncate=False)"
   ]
  },
  {
   "cell_type": "code",
   "execution_count": 8,
   "id": "15ba9f10-37a1-497a-87f4-4353e02f237a",
   "metadata": {
    "tags": []
   },
   "outputs": [
    {
     "name": "stdout",
     "output_type": "stream",
     "text": [
      "Number of rows: 3600000\n",
      "Number of columns: 1\n"
     ]
    }
   ],
   "source": [
    "# Count the number of rows in the Train DataFrame\n",
    "num_rows = train_df.count()\n",
    "\n",
    "# Count the number of columns in the DataFrame\n",
    "num_columns = len(train_df.columns)\n",
    "\n",
    "print(\"Number of rows:\", num_rows)\n",
    "print(\"Number of columns:\", num_columns)"
   ]
  },
  {
   "cell_type": "code",
   "execution_count": 9,
   "id": "5535af27-0760-43ef-abbf-e96561a3a068",
   "metadata": {
    "tags": []
   },
   "outputs": [
    {
     "name": "stdout",
     "output_type": "stream",
     "text": [
      "Number of rows: 400000\n",
      "Number of columns: 1\n"
     ]
    }
   ],
   "source": [
    "# Count the number of rows in the Test DataFrame\n",
    "num_rows = test_df.count()\n",
    "\n",
    "# Count the number of columns in the DataFrame\n",
    "num_columns = len(test_df.columns)\n",
    "\n",
    "print(\"Number of rows:\", num_rows)\n",
    "print(\"Number of columns:\", num_columns)"
   ]
  },
  {
   "cell_type": "code",
   "execution_count": 62,
   "id": "9f731f18-2dfb-46a0-a888-1cf5809af74c",
   "metadata": {
    "tags": []
   },
   "outputs": [],
   "source": [
    "# data has a single column named \"value\", rename to \"text\"\n",
    "train_df = train_df.withColumnRenamed(\"value\", \"text\")\n",
    "test_df = test_df.withColumnRenamed(\"value\", \"text\")\n",
    "\n",
    "# Tokenize the text\n",
    "tokenizer = Tokenizer(inputCol=\"text\", outputCol=\"words\")\n",
    "train_df = tokenizer.transform(train_df)\n",
    "test_df = tokenizer.transform(test_df)\n",
    "\n",
    "# Remove stop words\n",
    "remover = StopWordsRemover(inputCol=\"words\", outputCol=\"filtered_words\")\n",
    "train_df = remover.transform(train_df)\n",
    "test_df = remover.transform(test_df)"
   ]
  },
  {
   "cell_type": "code",
   "execution_count": 63,
   "id": "2bdcd821-1a59-4bdd-80c3-fee0ccc2fcb3",
   "metadata": {
    "tags": []
   },
   "outputs": [
    {
     "name": "stdout",
     "output_type": "stream",
     "text": [
      "+-------+------------------+\n",
      "|summary|       text_length|\n",
      "+-------+------------------+\n",
      "|  count|           3600000|\n",
      "|   mean| 442.6463147222222|\n",
      "| stddev|237.55257109885002|\n",
      "|    min|                83|\n",
      "|    max|              1026|\n",
      "+-------+------------------+\n",
      "\n"
     ]
    },
    {
     "data": {
      "image/png": "[encoded data removed]",
      "text/plain": [
       "<Figure size 640x480 with 1 Axes>"
      ]
     },
     "metadata": {},
     "output_type": "display_data"
    },
    {
     "name": "stdout",
     "output_type": "stream",
     "text": [
      "+--------------------+--------------------+\n",
      "|                text|      filtered_words|\n",
      "+--------------------+--------------------+\n",
      "|__label__2 Stunin...|[__label__2, stun...|\n",
      "|__label__2 The be...|[__label__2, best...|\n",
      "|__label__2 Amazin...|[__label__2, amaz...|\n",
      "|__label__2 Excell...|[__label__2, exce...|\n",
      "|__label__2 Rememb...|[__label__2, reme...|\n",
      "|__label__2 an abs...|[__label__2, abso...|\n",
      "|__label__1 Buyer ...|[__label__1, buye...|\n",
      "|__label__2 Glorio...|[__label__2, glor...|\n",
      "|__label__2 A FIVE...|[__label__2, five...|\n",
      "|__label__2 Whispe...|[__label__2, whis...|\n",
      "+--------------------+--------------------+\n",
      "only showing top 10 rows\n",
      "\n"
     ]
    }
   ],
   "source": [
    "# Add a column for the length of the text\n",
    "train_df = train_df.withColumn(\"text_length\", length(train_df[\"text\"]))\n",
    "test_df = test_df.withColumn(\"text_length\", length(test_df[\"text\"]))\n",
    "\n",
    "# Show basic statistics about text length\n",
    "train_df.select(\"text_length\").describe().show()\n",
    "\n",
    "# Plot a histogram of text length\n",
    "text_lengths = train_df.select(\"text_length\").rdd.flatMap(lambda x: x).collect()\n",
    "plt.hist(text_lengths, bins=50, color='blue', alpha=0.7)\n",
    "plt.title('Histogram of Text Length')\n",
    "plt.xlabel('Text Length')\n",
    "plt.ylabel('Frequency')\n",
    "plt.show()\n",
    "\n",
    "# Show the first few rows of the preprocessed DataFrame\n",
    "train_df.select(\"text\", \"filtered_words\").show(10)"
   ]
  },
  {
   "cell_type": "code",
   "execution_count": 64,
   "id": "beeca43d-1ac0-4e55-bcb1-362cc6660199",
   "metadata": {
    "tags": []
   },
   "outputs": [
    {
     "name": "stdout",
     "output_type": "stream",
     "text": [
      "+-----+-------+\n",
      "|label|  count|\n",
      "+-----+-------+\n",
      "|    1|1800000|\n",
      "|    2|1800000|\n",
      "+-----+-------+\n",
      "\n",
      "Number of positive labels (__label__2): 1800000\n",
      "Number of negative labels (__label__1): 1800000\n"
     ]
    }
   ],
   "source": [
    "# Assuming the labels are in the format __label__1 and __label__2\n",
    "train_df = train_df.withColumn(\"label\", train_df[\"text\"].substr(10, 1).cast(\"int\"))\n",
    "test_df = test_df.withColumn(\"label\", test_df[\"text\"].substr(10, 1).cast(\"int\"))\n",
    "\n",
    "# Count the occurrences of each label\n",
    "label_counts = train_df.groupBy(\"label\").agg(count(\"*\").alias(\"count\"))\n",
    "\n",
    "# Show the counts\n",
    "label_counts.show()\n",
    "\n",
    "# Alternatively, we can collect the counts as a dictionary for easier access\n",
    "label_counts_dict = label_counts.rdd.collectAsMap()\n",
    "print(\"Number of positive labels (__label__2):\", label_counts_dict.get(2, 0))\n",
    "print(\"Number of negative labels (__label__1):\", label_counts_dict.get(1, 0))"
   ]
  },
  {
   "cell_type": "code",
   "execution_count": 65,
   "id": "f85f00db-f1f1-4cca-8d30-8ff828a7752b",
   "metadata": {
    "tags": []
   },
   "outputs": [
    {
     "data": {
      "image/png": "[encoded data removed]",
      "text/plain": [
       "<Figure size 800x600 with 1 Axes>"
      ]
     },
     "metadata": {},
     "output_type": "display_data"
    }
   ],
   "source": [
    "# Count the occurrences of each label\n",
    "label_counts = train_df.groupBy(\"label\").agg(count(\"*\").alias(\"count\"))\n",
    "\n",
    "# Convert to Pandas DataFrame for visualization\n",
    "label_counts_pd = label_counts.toPandas()\n",
    "\n",
    "# Plot the distribution\n",
    "plt.figure(figsize=(8, 6))\n",
    "plt.bar(label_counts_pd[\"label\"], label_counts_pd[\"count\"], color=['red', 'green'])\n",
    "plt.xlabel('Label')\n",
    "plt.ylabel('Count')\n",
    "plt.title('Label Distribution')\n",
    "plt.xticks([1, 2], ['Negative', 'Positive'])\n",
    "plt.show()"
   ]
  },
  {
   "cell_type": "markdown",
   "id": "d8f8be1d-459c-41af-abbc-1e01a6976f32",
   "metadata": {},
   "source": [
    "## Reduce the samples to avoid out of memory issues"
   ]
  },
  {
   "cell_type": "code",
   "execution_count": 3,
   "id": "5c423cfc-ef5e-4259-a0d0-54a326aac6ba",
   "metadata": {
    "tags": []
   },
   "outputs": [],
   "source": [
    "train_df = spark.read.text(\"D:\\\\DE\\\\archive\\\\train.ft.txt.bz2\") #Please replace the correct path here.\n",
    "test_df = spark.read.text(\"D:\\\\DE\\\\archive\\\\test.ft.txt.bz2\") "
   ]
  },
  {
   "cell_type": "code",
   "execution_count": 4,
   "id": "02600ed0-b4aa-40ea-9eae-b6eab8b1cbe9",
   "metadata": {
    "tags": []
   },
   "outputs": [],
   "source": [
    "# Set the seed for reproducibility\n",
    "seed = 42\n",
    "\n",
    "# Randomly sample 50% rows from the train DataFrame\n",
    "train_df = train_df.sample(False, 0.5, seed)  # Change the fraction to get the desired sample size\n",
    "\n",
    "# Randomly sample 95% rows from the test DataFrame\n",
    "test_df = test_df.sample(False, 0.95, seed)  # Change the fraction to get the desired sample size"
   ]
  },
  {
   "cell_type": "code",
   "execution_count": 32,
   "id": "a5adf5c7-156f-45ff-9403-9c1699ac9d69",
   "metadata": {
    "tags": []
   },
   "outputs": [
    {
     "name": "stdout",
     "output_type": "stream",
     "text": [
      "Updated train data frame size:\n",
      "Number of rows: 1800981\n",
      "Number of columns: 1\n",
      "\n",
      "Updated test data frame size:\n",
      "Number of rows: 379950\n",
      "Number of columns: 1\n"
     ]
    }
   ],
   "source": [
    "# Check the updated sizes\n",
    "num_rows_train = train_df.count()\n",
    "num_rows_test = test_df.count()\n",
    "\n",
    "print(\"Updated train data frame size:\")\n",
    "print(\"Number of rows:\", num_rows_train)\n",
    "print(\"Number of columns:\", num_columns)\n",
    "\n",
    "print(\"\\nUpdated test data frame size:\")\n",
    "print(\"Number of rows:\", num_rows_test)\n",
    "print(\"Number of columns:\", num_columns)"
   ]
  },
  {
   "cell_type": "code",
   "execution_count": 5,
   "id": "1afec796-92d0-44cc-9330-59146b169c03",
   "metadata": {
    "tags": []
   },
   "outputs": [],
   "source": [
    "train_df = train_df.withColumnRenamed(\"value\", \"raw_text\")\n",
    "test_df = test_df.withColumnRenamed(\"value\", \"raw_text\")"
   ]
  },
  {
   "cell_type": "code",
   "execution_count": 6,
   "id": "3c8c84da-1094-46e8-874d-0ebbad134692",
   "metadata": {
    "tags": []
   },
   "outputs": [],
   "source": [
    "# For the training data\n",
    "# Extract the sentiment label and convert to an integer\n",
    "train_df = train_df.withColumn(\"label\", regexp_extract(\"raw_text\", r\"__label__(\\d)\", 1).cast(\"int\"))\n",
    "\n",
    "# Extract the review text (excluding the label)\n",
    "train_df = train_df.withColumn(\"text\", expr(\"substring(raw_text, 12)\"))\n",
    "\n",
    "# For the testing data\n",
    "# Extract the sentiment label and convert to an integer\n",
    "test_df = test_df.withColumn(\"label\", regexp_extract(\"raw_text\", r\"__label__(\\d)\", 1).cast(\"int\"))\n",
    "\n",
    "# Extract the review text (excluding the label)\n",
    "test_df = test_df.withColumn(\"text\", expr(\"substring(raw_text, 12)\"))"
   ]
  },
  {
   "cell_type": "code",
   "execution_count": 7,
   "id": "b8a3d25e-9c4c-4abc-98f6-909a7689110e",
   "metadata": {
    "tags": []
   },
   "outputs": [
    {
     "name": "stdout",
     "output_type": "stream",
     "text": [
      "+--------------------+---------+\n",
      "|                text|sentiment|\n",
      "+--------------------+---------+\n",
      "|Excellent Soundtr...|        1|\n",
      "|Glorious story: I...|        1|\n",
      "|The Worst!: A com...|        0|\n",
      "|Great Read: I tho...|        1|\n",
      "|A romantic zen ba...|        1|\n",
      "|Jobst UltraSheer ...|        1|\n",
      "|mens ultrasheer: ...|        0|\n",
      "|Problem with char...|        0|\n",
      "|Works, but not as...|        0|\n",
      "|Disappointed: I r...|        0|\n",
      "+--------------------+---------+\n",
      "only showing top 10 rows\n",
      "\n",
      "+--------------------+---------+\n",
      "|                text|sentiment|\n",
      "+--------------------+---------+\n",
      "|Great CD: My love...|        1|\n",
      "|One of the best g...|        1|\n",
      "|Batteries died wi...|        0|\n",
      "|works fine, but M...|        1|\n",
      "|Great for the non...|        1|\n",
      "+--------------------+---------+\n",
      "only showing top 5 rows\n",
      "\n"
     ]
    }
   ],
   "source": [
    "# Drop the \"raw_text\" column from train_df\n",
    "train_df = train_df.drop(\"raw_text\")\n",
    "\n",
    "# Drop the \"raw_text\" column from test_df\n",
    "test_df = test_df.drop(\"raw_text\")\n",
    "\n",
    "#convert label 1 to 0 (Negative)\n",
    "train_df = train_df.withColumn(\n",
    "    'sentiment',\n",
    "    when(train_df['label'] == 1, 0).when(train_df['label'] == 2, 1).otherwise(train_df['label'])\n",
    ")\n",
    "train_df = train_df.drop('label')\n",
    "\n",
    "#convert label 1 to 0 (Negative)\n",
    "test_df = test_df.withColumn(\n",
    "    'sentiment',\n",
    "    when(test_df['label'] == 1, 0).when(test_df['label'] == 2, 1).otherwise(test_df['label'])\n",
    ")\n",
    "test_df = test_df.drop('label')\n",
    "# Show the modified DataFrame\n",
    "train_df.show(10)\n",
    "\n",
    "test_df.show(5)"
   ]
  },
  {
   "cell_type": "code",
   "execution_count": 47,
   "id": "172a1131-d639-4bbc-96c8-35c49a211cb7",
   "metadata": {
    "tags": []
   },
   "outputs": [
    {
     "name": "stdout",
     "output_type": "stream",
     "text": [
      "Number of entries for each unique label in training data:\n",
      "+---------+------+\n",
      "|sentiment| count|\n",
      "+---------+------+\n",
      "|        0|900892|\n",
      "|        1|900089|\n",
      "+---------+------+\n",
      "\n",
      "Number of entries for each unique label in test data:\n",
      "+---------+------+\n",
      "|sentiment| count|\n",
      "+---------+------+\n",
      "|        0|189865|\n",
      "|        1|190085|\n",
      "+---------+------+\n",
      "\n"
     ]
    }
   ],
   "source": [
    "# Count the number of entries for each unique label in the training data\n",
    "train_label_counts = train_df.groupBy(\"sentiment\").count().orderBy(\"sentiment\")\n",
    "print(\"Number of entries for each unique label in training data:\")\n",
    "train_label_counts.show()\n",
    "\n",
    "# Count the number of entries for each unique label in the test data\n",
    "test_label_counts = test_df.groupBy(\"sentiment\").count().orderBy(\"sentiment\")\n",
    "print(\"Number of entries for each unique label in test data:\")\n",
    "test_label_counts.show()"
   ]
  },
  {
   "cell_type": "markdown",
   "id": "fba7c431-3c43-425c-81a1-d221aeaba7d2",
   "metadata": {},
   "source": [
    "### TF-IDF + Logistic regression"
   ]
  },
  {
   "cell_type": "code",
   "execution_count": 15,
   "id": "25b95e09-b57f-438f-bed6-20b72cfe20ad",
   "metadata": {
    "tags": []
   },
   "outputs": [],
   "source": [
    "from pyspark.ml import Pipeline\n",
    "from pyspark.ml.feature import StringIndexer, HashingTF, IDF\n",
    "from pyspark.ml.classification import LogisticRegression\n",
    "from pyspark.ml.evaluation import MulticlassClassificationEvaluator"
   ]
  },
  {
   "cell_type": "code",
   "execution_count": 16,
   "id": "0d7170c0-eb46-4967-842e-1185a175fe2e",
   "metadata": {
    "tags": []
   },
   "outputs": [
    {
     "name": "stdout",
     "output_type": "stream",
     "text": [
      "+--------------------+---------+\n",
      "|                text|sentiment|\n",
      "+--------------------+---------+\n",
      "|Excellent Soundtr...|        1|\n",
      "|Glorious story: I...|        1|\n",
      "|The Worst!: A com...|        0|\n",
      "|Great Read: I tho...|        1|\n",
      "|A romantic zen ba...|        1|\n",
      "|Jobst UltraSheer ...|        1|\n",
      "|mens ultrasheer: ...|        0|\n",
      "|Problem with char...|        0|\n",
      "|Works, but not as...|        0|\n",
      "|Disappointed: I r...|        0|\n",
      "|happy with it...b...|        1|\n",
      "|Rochelle explains...|        1|\n",
      "|More great playin...|        1|\n",
      "|Doesn't work on a...|        0|\n",
      "|Mind numbing: Thi...|        0|\n",
      "|Cannot recommend:...|        0|\n",
      "|TERRIBLE!! DO NOT...|        0|\n",
      "|Kitchen TV: I bou...|        1|\n",
      "|Great travel guid...|        1|\n",
      "|Not the best: I b...|        0|\n",
      "+--------------------+---------+\n",
      "only showing top 20 rows\n",
      "\n"
     ]
    }
   ],
   "source": [
    "train_df.show()"
   ]
  },
  {
   "cell_type": "code",
   "execution_count": 22,
   "id": "8c9439b1-2c49-4cec-8c44-61f7bc8687be",
   "metadata": {
    "tags": []
   },
   "outputs": [],
   "source": [
    "label_indexer = StringIndexer(inputCol=\"sentiment\", outputCol=\"indexedLabel\")\n",
    "tokenizer = Tokenizer(inputCol=\"text\", outputCol=\"words\")\n",
    "hashingTF = HashingTF(inputCol=\"words\", outputCol=\"rawFeatures\", numFeatures=250) ##this was decided because of mean length being 442. and Stddev is 237\n",
    "idf = IDF(inputCol=\"rawFeatures\", outputCol=\"features\")\n",
    "lr = LogisticRegression(featuresCol=\"features\", labelCol=\"indexedLabel\", maxIter=22, regParam=0.01,fitIntercept=True, tol=2e-5)\n",
    "\n",
    "# Create a pipeline\n",
    "pipeline = Pipeline(stages=[label_indexer, tokenizer, hashingTF, idf, lr])\n",
    "\n",
    "# Fit the pipeline to the training data\n",
    "model = pipeline.fit(train_df)"
   ]
  },
  {
   "cell_type": "markdown",
   "id": "04b0bd41-9aaa-40fd-b826-a4aa9e6c7b35",
   "metadata": {},
   "source": [
    "### Evaluation for Model 1 (Using Logistic Regression)"
   ]
  },
  {
   "cell_type": "code",
   "execution_count": 29,
   "id": "6d24686f-a75d-4337-80ec-d9a2fd67e022",
   "metadata": {
    "tags": []
   },
   "outputs": [],
   "source": [
    "model.save('lrTfIdf42')"
   ]
  },
  {
   "cell_type": "code",
   "execution_count": null,
   "id": "899553a8-2c08-4b84-b8f9-f5cacec2ef59",
   "metadata": {},
   "outputs": [],
   "source": [
    "model = PipelineModel.load('lrTfIdf42')"
   ]
  },
  {
   "cell_type": "code",
   "execution_count": 12,
   "id": "b057d98a-0cdf-470c-89d3-823513ef5e6a",
   "metadata": {
    "tags": []
   },
   "outputs": [],
   "source": [
    "predictions = model.transform(test_df)"
   ]
  },
  {
   "cell_type": "code",
   "execution_count": 24,
   "id": "e7f182f8-7313-4c57-b3ca-a75a7bcedd9c",
   "metadata": {
    "tags": []
   },
   "outputs": [
    {
     "name": "stdout",
     "output_type": "stream",
     "text": [
      "+--------------------+---------+------------+--------------------+--------------------+--------------------+--------------------+--------------------+----------+\n",
      "|                text|sentiment|indexedLabel|               words|         rawFeatures|            features|       rawPrediction|         probability|prediction|\n",
      "+--------------------+---------+------------+--------------------+--------------------+--------------------+--------------------+--------------------+----------+\n",
      "|Great CD: My love...|        1|         1.0|[great, cd:, my, ...|(250,[0,1,6,10,13...|(250,[0,1,6,10,13...|[-1.2978239900569...|[0.21453146364541...|       1.0|\n",
      "|One of the best g...|        1|         1.0|[one, of, the, be...|(250,[0,4,6,7,10,...|(250,[0,4,6,7,10,...|[-1.1203005115834...|[0.24595554599268...|       1.0|\n",
      "|Batteries died wi...|        0|         0.0|[batteries, died,...|(250,[6,10,17,23,...|(250,[6,10,17,23,...|[0.54954507004907...|[0.63403003734574...|       0.0|\n",
      "|works fine, but M...|        1|         1.0|[works, fine,, bu...|(250,[4,5,14,26,3...|(250,[4,5,14,26,3...|[0.07605025868636...|[0.51900340647960...|       0.0|\n",
      "|Great for the non...|        1|         1.0|[great, for, the,...|(250,[0,6,10,13,1...|(250,[0,6,10,13,1...|[-0.8254051306081...|[0.30461750679307...|       1.0|\n",
      "|DVD Player crappe...|        0|         0.0|[dvd, player, cra...|(250,[1,2,4,6,8,1...|(250,[1,2,4,6,8,1...|[3.27648194496902...|[0.96361313152941...|       0.0|\n",
      "|DVD menu select p...|        0|         0.0|[dvd, menu, selec...|(250,[1,6,10,17,2...|(250,[1,6,10,17,2...|[2.51891182694827...|[0.92545702052170...|       0.0|\n",
      "|Not an \"ultimate ...|        0|         0.0|[not, an, \"ultima...|(250,[0,1,4,5,6,8...|(250,[0,1,4,5,6,8...|[1.64590737242121...|[0.83833715265976...|       0.0|\n",
      "|Great book for tr...|        1|         1.0|[great, book, for...|(250,[0,6,13,17,2...|(250,[0,6,13,17,2...|[-1.9759889308884...|[0.12174707004994...|       1.0|\n",
      "|Not!: If you want...|        0|         0.0|[not!:, if, you, ...|(250,[9,17,43,49,...|(250,[9,17,43,49,...|[-0.1710568255666...|[0.45733976434529...|       1.0|\n",
      "|A complete Bust: ...|        0|         0.0|[a, complete, bus...|(250,[5,6,7,8,11,...|(250,[5,6,7,8,11,...|[-0.8213951607474...|[0.30546758627040...|       1.0|\n",
      "|TRULY MADE A DIFF...|        1|         1.0|[truly, made, a, ...|(250,[6,9,10,11,1...|(250,[6,9,10,11,1...|[-1.2308145928834...|[0.22603888472567...|       1.0|\n",
      "|didn't run off of...|        0|         0.0|[didn't, run, off...|(250,[6,7,10,16,1...|(250,[6,7,10,16,1...|[2.02454352449193...|[0.88335000256583...|       0.0|\n",
      "|Don't buy!: First...|        0|         0.0|[don't, buy!:, fi...|(250,[2,6,7,10,12...|(250,[2,6,7,10,12...|[2.47906385415553...|[0.92266102311268...|       0.0|\n",
      "|Simple, Durable, ...|        1|         1.0|[simple,, durable...|(250,[1,9,10,13,1...|(250,[1,9,10,13,1...|[0.63457929366280...|[0.65352707675440...|       0.0|\n",
      "|Review of Kelly C...|        1|         1.0|[review, of, kell...|(250,[0,10,13,17,...|(250,[0,10,13,17,...|[-3.0129299165180...|[0.04684514907898...|       1.0|\n",
      "|SOY UN APASIONADO...|        1|         1.0|[soy, un, apasion...|(250,[42,45,47,61...|(250,[42,45,47,61...|[0.19197047096013...|[0.5478457709104,...|       0.0|\n",
      "|Some of the best ...|        1|         1.0|[some, of, the, b...|(250,[0,6,9,13,15...|(250,[0,6,9,13,15...|[-3.4362495119359...|[0.03118158475735...|       1.0|\n",
      "|Long and boring: ...|        0|         0.0|[long, and, borin...|(250,[4,17,24,40,...|(250,[4,17,24,40,...|[-0.3498650897560...|[0.41341513684765...|       1.0|\n",
      "|Dont like it: Thi...|        0|         0.0|[dont, like, it:,...|(250,[6,12,13,17,...|(250,[6,12,13,17,...|[0.80735738574559...|[0.69154609352314...|       0.0|\n",
      "+--------------------+---------+------------+--------------------+--------------------+--------------------+--------------------+--------------------+----------+\n",
      "only showing top 20 rows\n",
      "\n"
     ]
    }
   ],
   "source": [
    "predictions.show()"
   ]
  },
  {
   "cell_type": "code",
   "execution_count": 13,
   "id": "0da236c8-60fa-4867-865e-e4f7adc02f88",
   "metadata": {
    "tags": []
   },
   "outputs": [
    {
     "name": "stdout",
     "output_type": "stream",
     "text": [
      "Number of entries for each unique label in test data:\n",
      "+----------+------+\n",
      "|prediction| count|\n",
      "+----------+------+\n",
      "|       0.0|185204|\n",
      "|       1.0|194725|\n",
      "+----------+------+\n",
      "\n"
     ]
    }
   ],
   "source": [
    "predictions_label_counts = predictions.groupBy(\"prediction\").count().orderBy(\"prediction\")\n",
    "print(\"Number of entries for each unique label in test data:\")\n",
    "predictions_label_counts.show()"
   ]
  },
  {
   "cell_type": "code",
   "execution_count": 15,
   "id": "6f8130bb-cac8-4789-97bd-b672ae51a8d1",
   "metadata": {
    "tags": []
   },
   "outputs": [
    {
     "name": "stdout",
     "output_type": "stream",
     "text": [
      "Number of entries for each unique label in test data:\n",
      "+---------+------+\n",
      "|sentiment| count|\n",
      "+---------+------+\n",
      "|        0|190031|\n",
      "|        1|189898|\n",
      "+---------+------+\n",
      "\n"
     ]
    }
   ],
   "source": [
    "predictions_label_counts = predictions.groupBy(\"sentiment\").count().orderBy(\"sentiment\")\n",
    "print(\"Number of entries for each unique label in test data:\")\n",
    "predictions_label_counts.show()"
   ]
  },
  {
   "cell_type": "code",
   "execution_count": 14,
   "id": "142ccf3d-6b80-4171-a5ed-0df70adca5e0",
   "metadata": {
    "tags": []
   },
   "outputs": [
    {
     "name": "stdout",
     "output_type": "stream",
     "text": [
      "+------------------------------------------------------------------------------------------------------------------------------------------------------------------------------------------------------------------------------------------------------------------------------------------------------------------------------------------------------------------------------------------------------------------------------------------------------------------------------------------------------------------------------------------------------------------------------------------------------------------------------------------------------------------------------------------------------------------------------------------------------------------------------------------------------------------------------------------------+----------+\n",
      "|text                                                                                                                                                                                                                                                                                                                                                                                                                                                                                                                                                                                                                                                                                                                                                                                                                                            |prediction|\n",
      "+------------------------------------------------------------------------------------------------------------------------------------------------------------------------------------------------------------------------------------------------------------------------------------------------------------------------------------------------------------------------------------------------------------------------------------------------------------------------------------------------------------------------------------------------------------------------------------------------------------------------------------------------------------------------------------------------------------------------------------------------------------------------------------------------------------------------------------------------+----------+\n",
      "|Great CD: My lovely Pat has one of the GREAT voices of her generation. I have listened to this CD for YEARS and I still LOVE IT. When I'm in a good mood it makes me feel better. A bad mood just evaporates like sugar in the rain. This CD just oozes LIFE. Vocals are jusat STUUNNING and lyrics just kill. One of life's hidden gems. This is a desert isle CD in my book. Why she never made it big is just beyond me. Everytime I play this, no matter black, white, young, old, male, female EVERYBODY says one thing \"Who was that singing ?\"                                                                                                                                                                                                                                                                                           |1.0       |\n",
      "|One of the best game music soundtracks - for a game I didn't really play: Despite the fact that I have only played a small portion of the game, the music I heard (plus the connection to Chrono Trigger which was great as well) led me to purchase the soundtrack, and it remains one of my favorite albums. There is an incredible mix of fun, epic, and emotional songs. Those sad and beautiful tracks I especially like, as there's not too many of those kinds of songs in my other video game soundtracks. I must admit that one of the songs (Life-A Distant Promise) has brought tears to my eyes on many occasions.My one complaint about this soundtrack is that they use guitar fretting effects in many of the songs, which I find distracting. But even if those weren't included I would still consider the collection worth it.|1.0       |\n",
      "|Batteries died within a year ...: I bought this charger in Jul 2003 and it worked OK for a while. The design is nice and convenient. However, after about a year, the batteries would not hold a charge. Might as well just get alkaline disposables, or look elsewhere for a charger that comes with batteries that have better staying power.                                                                                                                                                                                                                                                                                                                                                                                                                                                                                                 |0.0       |\n",
      "+------------------------------------------------------------------------------------------------------------------------------------------------------------------------------------------------------------------------------------------------------------------------------------------------------------------------------------------------------------------------------------------------------------------------------------------------------------------------------------------------------------------------------------------------------------------------------------------------------------------------------------------------------------------------------------------------------------------------------------------------------------------------------------------------------------------------------------------------+----------+\n",
      "only showing top 3 rows\n",
      "\n"
     ]
    }
   ],
   "source": [
    "predictions.select('text','prediction').show(3, truncate=False)"
   ]
  },
  {
   "cell_type": "code",
   "execution_count": 16,
   "id": "91d9623d-426b-44e2-a24f-d39f0b729db3",
   "metadata": {
    "tags": []
   },
   "outputs": [
    {
     "name": "stdout",
     "output_type": "stream",
     "text": [
      "Evaluation Metrics With Logistic Regression\n",
      "Accuracy: 0.7278886318233143\n",
      "Weighted Precision: 0.7280382868277216\n",
      "Weighted F1 Score: 0.7278459120953271\n"
     ]
    }
   ],
   "source": [
    "evaluator = MulticlassClassificationEvaluator(labelCol=\"sentiment\", predictionCol=\"prediction\", metricName=\"accuracy,weightedPrecision,f1\")\n",
    "\n",
    "# Compute multiple metrics\n",
    "accuracy = evaluator.setMetricName(\"accuracy\").evaluate(predictions)\n",
    "weighted_precision = evaluator.setMetricName(\"weightedPrecision\").evaluate(predictions)\n",
    "weighted_f1 = evaluator.setMetricName(\"f1\").evaluate(predictions)\n",
    "\n",
    "# Print the metrics\n",
    "print(\"Evaluation Metrics With Logistic Regression\")\n",
    "print(\"Accuracy:\", accuracy)\n",
    "print(\"Weighted Precision:\", weighted_precision)\n",
    "print(\"Weighted F1 Score:\", weighted_f1)"
   ]
  },
  {
   "cell_type": "code",
   "execution_count": 21,
   "id": "100856e9-8291-4781-a240-e13d5baa2141",
   "metadata": {
    "tags": []
   },
   "outputs": [
    {
     "name": "stdout",
     "output_type": "stream",
     "text": [
      "+--------------------+---------+------------+--------------------+--------------------+--------------------+--------------------+--------------------+----------+\n",
      "|                text|sentiment|indexedLabel|               words|         rawFeatures|            features|       rawPrediction|         probability|prediction|\n",
      "+--------------------+---------+------------+--------------------+--------------------+--------------------+--------------------+--------------------+----------+\n",
      "|Great CD: My love...|        1|         1.0|[great, cd:, my, ...|(250,[0,1,6,10,13...|(250,[0,1,6,10,13...|[-1.2978239900569...|[0.21453146364541...|       1.0|\n",
      "|One of the best g...|        1|         1.0|[one, of, the, be...|(250,[0,4,6,7,10,...|(250,[0,4,6,7,10,...|[-1.1203005115834...|[0.24595554599268...|       1.0|\n",
      "|Batteries died wi...|        0|         0.0|[batteries, died,...|(250,[6,10,17,23,...|(250,[6,10,17,23,...|[0.54954507004907...|[0.63403003734574...|       0.0|\n",
      "|works fine, but M...|        1|         1.0|[works, fine,, bu...|(250,[4,5,14,26,3...|(250,[4,5,14,26,3...|[0.07605025868636...|[0.51900340647960...|       0.0|\n",
      "|Great for the non...|        1|         1.0|[great, for, the,...|(250,[0,6,10,13,1...|(250,[0,6,10,13,1...|[-0.8254051306081...|[0.30461750679307...|       1.0|\n",
      "|DVD Player crappe...|        0|         0.0|[dvd, player, cra...|(250,[1,2,4,6,8,1...|(250,[1,2,4,6,8,1...|[3.27648194496902...|[0.96361313152941...|       0.0|\n",
      "|DVD menu select p...|        0|         0.0|[dvd, menu, selec...|(250,[1,6,10,17,2...|(250,[1,6,10,17,2...|[2.51891182694827...|[0.92545702052170...|       0.0|\n",
      "|Not an \"ultimate ...|        0|         0.0|[not, an, \"ultima...|(250,[0,1,4,5,6,8...|(250,[0,1,4,5,6,8...|[1.64590737242121...|[0.83833715265976...|       0.0|\n",
      "|Great book for tr...|        1|         1.0|[great, book, for...|(250,[0,6,13,17,2...|(250,[0,6,13,17,2...|[-1.9759889308884...|[0.12174707004994...|       1.0|\n",
      "|Not!: If you want...|        0|         0.0|[not!:, if, you, ...|(250,[9,17,43,49,...|(250,[9,17,43,49,...|[-0.1710568255666...|[0.45733976434529...|       1.0|\n",
      "|A complete Bust: ...|        0|         0.0|[a, complete, bus...|(250,[5,6,7,8,11,...|(250,[5,6,7,8,11,...|[-0.8213951607474...|[0.30546758627040...|       1.0|\n",
      "|TRULY MADE A DIFF...|        1|         1.0|[truly, made, a, ...|(250,[6,9,10,11,1...|(250,[6,9,10,11,1...|[-1.2308145928834...|[0.22603888472567...|       1.0|\n",
      "|didn't run off of...|        0|         0.0|[didn't, run, off...|(250,[6,7,10,16,1...|(250,[6,7,10,16,1...|[2.02454352449193...|[0.88335000256583...|       0.0|\n",
      "|Don't buy!: First...|        0|         0.0|[don't, buy!:, fi...|(250,[2,6,7,10,12...|(250,[2,6,7,10,12...|[2.47906385415553...|[0.92266102311268...|       0.0|\n",
      "|Simple, Durable, ...|        1|         1.0|[simple,, durable...|(250,[1,9,10,13,1...|(250,[1,9,10,13,1...|[0.63457929366280...|[0.65352707675440...|       0.0|\n",
      "|Review of Kelly C...|        1|         1.0|[review, of, kell...|(250,[0,10,13,17,...|(250,[0,10,13,17,...|[-3.0129299165180...|[0.04684514907898...|       1.0|\n",
      "|SOY UN APASIONADO...|        1|         1.0|[soy, un, apasion...|(250,[42,45,47,61...|(250,[42,45,47,61...|[0.19197047096013...|[0.5478457709104,...|       0.0|\n",
      "|Some of the best ...|        1|         1.0|[some, of, the, b...|(250,[0,6,9,13,15...|(250,[0,6,9,13,15...|[-3.4362495119359...|[0.03118158475735...|       1.0|\n",
      "|Long and boring: ...|        0|         0.0|[long, and, borin...|(250,[4,17,24,40,...|(250,[4,17,24,40,...|[-0.3498650897560...|[0.41341513684765...|       1.0|\n",
      "|Dont like it: Thi...|        0|         0.0|[dont, like, it:,...|(250,[6,12,13,17,...|(250,[6,12,13,17,...|[0.80735738574559...|[0.69154609352314...|       0.0|\n",
      "+--------------------+---------+------------+--------------------+--------------------+--------------------+--------------------+--------------------+----------+\n",
      "only showing top 20 rows\n",
      "\n"
     ]
    }
   ],
   "source": [
    "predictions.show()"
   ]
  },
  {
   "cell_type": "code",
   "execution_count": 23,
   "id": "12dec44a-7b4c-4490-8dfb-7711b9849170",
   "metadata": {
    "tags": []
   },
   "outputs": [
    {
     "name": "stderr",
     "output_type": "stream",
     "text": [
      "C:\\Users\\Tejaswi\\Downloads\\spark-3.5.0-bin-hadoop3\\spark-3.5.0-bin-hadoop3\\python\\pyspark\\sql\\context.py:158: FutureWarning: Deprecated in 3.0.0. Use SparkSession.builder.getOrCreate() instead.\n",
      "  warnings.warn(\n"
     ]
    },
    {
     "data": {
      "image/png": "[encoded data removed]",
      "text/plain": [
       "<Figure size 640x480 with 2 Axes>"
      ]
     },
     "metadata": {},
     "output_type": "display_data"
    },
    {
     "name": "stdout",
     "output_type": "stream",
     "text": [
      "True Positives: 140620.0\n",
      "False Positives: 54105.0\n",
      "True Negatives: 135926.0\n",
      "False Negatives: 49278.0\n"
     ]
    }
   ],
   "source": [
    "predictionAndLabels = predictions.select(\"prediction\", \"sentiment\").rdd.map(lambda row: (float(row.prediction), float(row.sentiment)))\n",
    "\n",
    "# Instantiate MulticlassMetrics\n",
    "metrics = MulticlassMetrics(predictionAndLabels)\n",
    "\n",
    "# Get confusion matrix\n",
    "confusion_matrix = metrics.confusionMatrix().toArray()\n",
    "\n",
    "# Extract TP, FP, TN, FN\n",
    "tp = confusion_matrix[1, 1]  # True Positives\n",
    "fp = confusion_matrix[0, 1]  # False Positives\n",
    "tn = confusion_matrix[0, 0]  # True Negatives\n",
    "fn = confusion_matrix[1, 0]  # False Negatives\n",
    "\n",
    "# Plot confusion matrix\n",
    "fig, ax = plt.subplots()\n",
    "cax = ax.matshow(confusion_matrix, cmap='Blues')\n",
    "\n",
    "plt.title('Confusion Matrix')\n",
    "plt.xlabel('Predicted')\n",
    "plt.ylabel('Actual')\n",
    "plt.xticks([0, 1], ['Negative', 'Positive'])\n",
    "plt.yticks([0, 1], ['Negative', 'Positive'])\n",
    "plt.colorbar(cax)\n",
    "\n",
    "# Display values inside the matrix\n",
    "for i in range(2):\n",
    "    for j in range(2):\n",
    "        plt.text(j, i, str(int(confusion_matrix[i, j])), ha='center', va='center', color='red')\n",
    "\n",
    "plt.show()\n",
    "\n",
    "# Print TP, FP, TN, FN\n",
    "print(f\"True Positives: {tp}\")\n",
    "print(f\"False Positives: {fp}\")\n",
    "print(f\"True Negatives: {tn}\")\n",
    "print(f\"False Negatives: {fn}\")"
   ]
  },
  {
   "cell_type": "markdown",
   "id": "672f523b-1e90-4c86-9ec9-72fb590cb59c",
   "metadata": {},
   "source": [
    "## Decision tree based classification using CV"
   ]
  },
  {
   "cell_type": "code",
   "execution_count": 70,
   "id": "ceaa06cd-af44-4f45-beec-49aa4796cb9b",
   "metadata": {
    "tags": []
   },
   "outputs": [],
   "source": [
    "from pyspark.ml.classification import DecisionTreeClassifier\n",
    "from pyspark.ml import Pipeline\n",
    "\n",
    "label_indexer1 = StringIndexer(inputCol=\"sentiment\", outputCol=\"indexedLabel\")\n",
    "tokenizer1 = Tokenizer(inputCol=\"text\", outputCol=\"words\")\n",
    "hashingTF1 = HashingTF(inputCol=\"words\", outputCol=\"rawFeatures\", numFeatures=400) ##this was decided because of mean length being 442. and Stddev is 237\n",
    "idf1 = IDF(inputCol=\"rawFeatures\", outputCol=\"features\")\n",
    "dt  = DecisionTreeClassifier(\n",
    "    labelCol=\"sentiment\",\n",
    "    featuresCol=\"features\",\n",
    "    impurity=\"gini\",\n",
    "    seed=42\n",
    ")\n",
    "pipeline1 = Pipeline(stages=[label_indexer1, tokenizer1, hashingTF1, idf1, dt])\n",
    "# Define the parameter grid for grid search\n",
    "param_grid1 = ParamGridBuilder() \\\n",
    "    .addGrid(dt.maxDepth, [5, 10]) \\\n",
    "    .addGrid(dt.maxBins, [32, 64]) \\\n",
    "    .addGrid(dt.minInstancesPerNode, [1, 5]) \\\n",
    "    .build()\n",
    "\n",
    "# Create a CrossValidator with a MulticlassClassificationEvaluator\n",
    "evaluator1 = MulticlassClassificationEvaluator(labelCol=\"sentiment\", predictionCol=\"prediction\", metricName=\"accuracy\")\n",
    "\n",
    "cross_validator1 = CrossValidator(estimator=pipeline1,\n",
    "                                 estimatorParamMaps=param_grid1,\n",
    "                                 evaluator=evaluator1,\n",
    "                                 numFolds=3) \n",
    "cv_model = cross_validator1.fit(train_df)"
   ]
  },
  {
   "cell_type": "code",
   "execution_count": 77,
   "id": "a19a4fb5-17c3-46ec-8690-193fee6d29c8",
   "metadata": {
    "tags": []
   },
   "outputs": [
    {
     "name": "stdout",
     "output_type": "stream",
     "text": [
      "Accuracy: 0.6674431275317231\n",
      "Weighted Precision: 0.6676115509177853\n",
      "Weighted F1 Score: 0.6673558480139252\n"
     ]
    }
   ],
   "source": [
    "predictions = cv_model.transform(test_df)\n",
    "evaluator11 = MulticlassClassificationEvaluator(labelCol=\"sentiment\",predictionCol=\"prediction\",metricName=\"accuracy,weightedPrecision,f1\")\n",
    "\n",
    "# Compute multiple metrics\n",
    "accuracy = evaluator11.setMetricName(\"accuracy\").evaluate(predictions2)\n",
    "weighted_precision = evaluator11.setMetricName(\"weightedPrecision\").evaluate(predictions2)\n",
    "weighted_f1 = evaluator11.setMetricName(\"f1\").evaluate(predictions2)\n",
    "# Evaluate the model\n",
    "\n",
    "print(\"Accuracy:\", accuracy)\n",
    "print(\"Weighted Precision:\", weighted_precision)\n",
    "print(\"Weighted F1 Score:\", weighted_f1)\n"
   ]
  },
  {
   "cell_type": "code",
   "execution_count": 79,
   "id": "697375dd-6295-49ea-b7f4-093819499f55",
   "metadata": {
    "tags": []
   },
   "outputs": [
    {
     "name": "stdout",
     "output_type": "stream",
     "text": [
      "Best Hyperparameters:\n",
      "Max Depth: 10\n",
      "Max Bins: 32\n",
      "Min Instances Per Node: 1\n"
     ]
    }
   ],
   "source": [
    "# Get the best set of hyperparameters\n",
    "best_model = cv_model.bestModel\n",
    "best_dt_model = best_model.stages[4]  # Assuming the DecisionTreeClassifier is the first stage in the pipeline\n",
    "\n",
    "print(\"Best Hyperparameters:\")\n",
    "print(f\"Max Depth: {best_dt_model.getMaxDepth()}\")\n",
    "print(f\"Max Bins: {best_dt_model.getMaxBins()}\")\n",
    "print(f\"Min Instances Per Node: {best_dt_model.getMinInstancesPerNode()}\")\n"
   ]
  },
  {
   "cell_type": "code",
   "execution_count": 82,
   "id": "9a2b70e7-b6b4-4e97-826c-05df0733fd1a",
   "metadata": {
    "tags": []
   },
   "outputs": [],
   "source": [
    "best_model.save('DTmodel1')"
   ]
  },
  {
   "cell_type": "code",
   "execution_count": 83,
   "id": "a94e8892-35c9-40e0-99c0-67e1539954a7",
   "metadata": {
    "tags": []
   },
   "outputs": [],
   "source": [
    "predictionAndLabels = predictions.select(\"prediction\", \"sentiment\").rdd.map(lambda row: (float(row.prediction), float(row.sentiment)))\n",
    "\n",
    "# Instantiate MulticlassMetrics\n",
    "metrics = MulticlassMetrics(predictionAndLabels)\n",
    "\n",
    "# Get confusion matrix\n",
    "confusion_matrix2 = metrics2.confusionMatrix().toArray()"
   ]
  },
  {
   "cell_type": "code",
   "execution_count": 84,
   "id": "324210a5-ef68-4cd6-8340-3500c7e8c03f",
   "metadata": {
    "tags": []
   },
   "outputs": [
    {
     "data": {
      "image/png": "[encoded data removed]",
      "text/plain": [
       "<Figure size 640x480 with 2 Axes>"
      ]
     },
     "metadata": {},
     "output_type": "display_data"
    },
    {
     "name": "stdout",
     "output_type": "stream",
     "text": [
      "True Positives: 140620.0\n",
      "False Positives: 54105.0\n",
      "True Negatives: 135926.0\n",
      "False Negatives: 49278.0\n"
     ]
    }
   ],
   "source": [
    "# Extract TP, FP, TN, FN\n",
    "tp = confusion_matrix[1, 1]  # True Positives\n",
    "fp = confusion_matrix[0, 1]  # False Positives\n",
    "tn = confusion_matrix[0, 0]  # True Negatives\n",
    "fn = confusion_matrix[1, 0]  # False Negatives\n",
    "\n",
    "# Plot confusion matrix\n",
    "fig, ax = plt.subplots()\n",
    "cax = ax.matshow(confusion_matrix, cmap='Blues')\n",
    "\n",
    "plt.title('Confusion Matrix')\n",
    "plt.xlabel('Predicted')\n",
    "plt.ylabel('Actual')\n",
    "plt.xticks([0, 1], ['Negative', 'Positive'])\n",
    "plt.yticks([0, 1], ['Negative', 'Positive'])\n",
    "plt.colorbar(cax)\n",
    "\n",
    "# Display values inside the matrix\n",
    "for i in range(2):\n",
    "    for j in range(2):\n",
    "        plt.text(j, i, str(int(confusion_matrix[i, j])), ha='center', va='center', color='red')\n",
    "\n",
    "plt.show()\n",
    "\n",
    "# Print TP, FP, TN, FN\n",
    "print(f\"True Positives: {tp}\")\n",
    "print(f\"False Positives: {fp}\")\n",
    "print(f\"True Negatives: {tn}\")\n",
    "print(f\"False Negatives: {fn}\")"
   ]
  },
  {
   "cell_type": "markdown",
   "id": "b73a9d03-a05e-4d90-9563-8f105b7692e4",
   "metadata": {},
   "source": [
    "## Gradient boosted tree classification with Cross validation and Hyper parameter tuning"
   ]
  },
  {
   "cell_type": "code",
   "execution_count": 26,
   "id": "4a07bf19-584f-4ec5-b7cb-268746af52e1",
   "metadata": {},
   "outputs": [],
   "source": [
    "from pyspark.ml.classification import GBTClassifier\n",
    "from pyspark.ml import Pipeline\n",
    "gbt = GBTClassifier(featuresCol=\"features\", labelCol=\"indexedLabel\",seed=42)"
   ]
  },
  {
   "cell_type": "code",
   "execution_count": 37,
   "id": "b38beba1-c90b-4cd7-aafc-2002d36400d3",
   "metadata": {
    "tags": []
   },
   "outputs": [],
   "source": [
    "label_indexer = StringIndexer(inputCol=\"sentiment\", outputCol=\"indexedLabel\")\n",
    "tokenizer = Tokenizer(inputCol=\"text\", outputCol=\"words\")\n",
    "hashingTF = HashingTF(inputCol=\"words\", outputCol=\"rawFeatures\", numFeatures=150) ##this was decided because of mean length being 442. and Stddev is 237\n",
    "idf = IDF(inputCol=\"rawFeatures\", outputCol=\"features\")\n",
    "pipeline2 = Pipeline(stages=[label_indexer, tokenizer, hashingTF, idf, gbt])"
   ]
  },
  {
   "cell_type": "code",
   "execution_count": 40,
   "id": "cc0c980e-b2ee-4545-9ceb-845aaefb60ff",
   "metadata": {
    "tags": []
   },
   "outputs": [],
   "source": [
    "from pyspark.ml.tuning import ParamGridBuilder, CrossValidator\n",
    "from pyspark.ml.evaluation import RegressionEvaluator\n",
    "\n",
    "# Create a parameter grid\n",
    "param_grid = (ParamGridBuilder()\n",
    "              .addGrid(gbt.maxIter, [10]) ##Give more values here (10,12,15)\n",
    "              .addGrid(gbt.maxDepth, [7,8]) ##Give more valaues like 6,7,8,9,10 \n",
    "              .build()) ###Commenting these out to run it easily and quickly.\n",
    "\n",
    "\n",
    "# Create a classification evaluator and cross validation\n",
    "crossval = CrossValidator(estimator=pipeline2,\n",
    "                          estimatorParamMaps=param_grid,\n",
    "                          evaluator=MulticlassClassificationEvaluator(labelCol=\"indexed_label\", metricName=\"f1\"),\n",
    "                          numFolds=3)\n",
    "#each fold takes about 15 mins.. so 90 mins. \n",
    "#number of tokens we have for this model is 150\n",
    "# Fit the model\n",
    "cv_model = cross_validator.fit(train_df)\n",
    "\n",
    "# Get the best model from cross-validation\n",
    "best_model = cv_model.bestModel"
   ]
  },
  {
   "cell_type": "code",
   "execution_count": 41,
   "id": "4004d15d-7ac3-42c7-acb7-55928f50ee30",
   "metadata": {
    "tags": []
   },
   "outputs": [],
   "source": [
    "best_model.save('gbttfidf2')"
   ]
  },
  {
   "cell_type": "markdown",
   "id": "e2f0d8b9-cdd9-4754-89ba-649bc5f24f04",
   "metadata": {},
   "source": [
    "## Evaluation for this model"
   ]
  },
  {
   "cell_type": "code",
   "execution_count": 51,
   "id": "21413693-049a-4562-8b25-cf60dc6096a9",
   "metadata": {
    "tags": []
   },
   "outputs": [],
   "source": [
    "predictions2=best_model.transform(test_df)"
   ]
  },
  {
   "cell_type": "code",
   "execution_count": 73,
   "id": "6ae07192-fbb6-451e-af9d-e12e498f5d47",
   "metadata": {
    "tags": []
   },
   "outputs": [
    {
     "name": "stdout",
     "output_type": "stream",
     "text": [
      "Evaluation Metrics With GBT Classifier\n",
      "Accuracy: 0.6674431275317231\n",
      "Weighted Precision: 0.6676115509177853\n",
      "Weighted F1 Score: 0.6673558480139252\n"
     ]
    }
   ],
   "source": [
    "evaluator = MulticlassClassificationEvaluator(labelCol=\"sentiment\", predictionCol=\"prediction\", metricName=\"accuracy,weightedPrecision,f1\")\n",
    "\n",
    "# Compute multiple metrics\n",
    "accuracy = evaluator.setMetricName(\"accuracy\").evaluate(predictions2)\n",
    "weighted_precision = evaluator.setMetricName(\"weightedPrecision\").evaluate(predictions2)\n",
    "weighted_f1 = evaluator.setMetricName(\"f1\").evaluate(predictions2)\n",
    "\n",
    "# Print the metrics\n",
    "print(\"Evaluation Metrics With GBT Classifier\")\n",
    "print(\"Accuracy:\", accuracy)\n",
    "print(\"Weighted Precision:\", weighted_precision)\n",
    "print(\"Weighted F1 Score:\", weighted_f1)"
   ]
  },
  {
   "cell_type": "code",
   "execution_count": 55,
   "id": "6b618984-5ef8-4fdf-ab9c-48526fd15da3",
   "metadata": {
    "tags": []
   },
   "outputs": [
    {
     "name": "stdout",
     "output_type": "stream",
     "text": [
      "+------------------------------------------------------------------------------------------------------------------------------------------------------------------------------------------------------------------------------------------------------------------------------------------------------------------------------------------------------------------------------------------------------------------------------------------------------------------------------------------------------------------------------------------------------------------------------------------------------------------------------------------------------------------------------------------------------------------------------------------------------------------------------------------------------------------------------------------------+---------+----------+\n",
      "|text                                                                                                                                                                                                                                                                                                                                                                                                                                                                                                                                                                                                                                                                                                                                                                                                                                            |sentiment|prediction|\n",
      "+------------------------------------------------------------------------------------------------------------------------------------------------------------------------------------------------------------------------------------------------------------------------------------------------------------------------------------------------------------------------------------------------------------------------------------------------------------------------------------------------------------------------------------------------------------------------------------------------------------------------------------------------------------------------------------------------------------------------------------------------------------------------------------------------------------------------------------------------+---------+----------+\n",
      "|Great CD: My lovely Pat has one of the GREAT voices of her generation. I have listened to this CD for YEARS and I still LOVE IT. When I'm in a good mood it makes me feel better. A bad mood just evaporates like sugar in the rain. This CD just oozes LIFE. Vocals are jusat STUUNNING and lyrics just kill. One of life's hidden gems. This is a desert isle CD in my book. Why she never made it big is just beyond me. Everytime I play this, no matter black, white, young, old, male, female EVERYBODY says one thing \"Who was that singing ?\"                                                                                                                                                                                                                                                                                           |1        |1.0       |\n",
      "|One of the best game music soundtracks - for a game I didn't really play: Despite the fact that I have only played a small portion of the game, the music I heard (plus the connection to Chrono Trigger which was great as well) led me to purchase the soundtrack, and it remains one of my favorite albums. There is an incredible mix of fun, epic, and emotional songs. Those sad and beautiful tracks I especially like, as there's not too many of those kinds of songs in my other video game soundtracks. I must admit that one of the songs (Life-A Distant Promise) has brought tears to my eyes on many occasions.My one complaint about this soundtrack is that they use guitar fretting effects in many of the songs, which I find distracting. But even if those weren't included I would still consider the collection worth it.|1        |0.0       |\n",
      "|Batteries died within a year ...: I bought this charger in Jul 2003 and it worked OK for a while. The design is nice and convenient. However, after about a year, the batteries would not hold a charge. Might as well just get alkaline disposables, or look elsewhere for a charger that comes with batteries that have better staying power.                                                                                                                                                                                                                                                                                                                                                                                                                                                                                                 |0        |0.0       |\n",
      "|works fine, but Maha Energy is better: Check out Maha Energy's website. Their Powerex MH-C204F charger works in 100 minutes for rapid charge, with option for slower charge (better for batteries). And they have 2200 mAh batteries.                                                                                                                                                                                                                                                                                                                                                                                                                                                                                                                                                                                                           |1        |0.0       |\n",
      "|Great for the non-audiophile: Reviewed quite a bit of the combo players and was hesitant due to unfavorable reviews and size of machines. I am weaning off my VHS collection, but don't want to replace them with DVD's. This unit is well built, easy to setup and resolution and special effects (no progressive scan for HDTV owners) suitable for many people looking for a versatile product.Cons- No universal remote.                                                                                                                                                                                                                                                                                                                                                                                                                    |1        |1.0       |\n",
      "|DVD Player crapped out after one year: I also began having the incorrect disc problems that I've read about on here. The VCR still works, but hte DVD side is useless. I understand that DVD players sometimes just quit on you, but after not even one year? To me that's a sign on bad quality. I'm giving up JVC after this as well. I'm sticking to Sony or giving another brand a shot.                                                                                                                                                                                                                                                                                                                                                                                                                                                    |0        |0.0       |\n",
      "+------------------------------------------------------------------------------------------------------------------------------------------------------------------------------------------------------------------------------------------------------------------------------------------------------------------------------------------------------------------------------------------------------------------------------------------------------------------------------------------------------------------------------------------------------------------------------------------------------------------------------------------------------------------------------------------------------------------------------------------------------------------------------------------------------------------------------------------------+---------+----------+\n",
      "only showing top 6 rows\n",
      "\n"
     ]
    }
   ],
   "source": [
    "predictions2.select('text','sentiment','prediction').show(6,truncate=False)"
   ]
  },
  {
   "cell_type": "code",
   "execution_count": 85,
   "id": "af8174f3-9513-44db-af84-0959c2609a49",
   "metadata": {
    "tags": []
   },
   "outputs": [],
   "source": [
    "predictionAndLabels2 = predictions2.select(\"prediction\", \"sentiment\").rdd.map(lambda row: (float(row.prediction), float(row.sentiment)))\n",
    "\n",
    "# Instantiate MulticlassMetrics\n",
    "metrics2 = MulticlassMetrics(predictionAndLabels2)\n",
    "\n",
    "# Get confusion matrix\n",
    "confusion_matrix2 = metrics2.confusionMatrix().toArray()"
   ]
  },
  {
   "cell_type": "code",
   "execution_count": 86,
   "id": "4775c70b-1729-44b0-8d88-a47244d3c648",
   "metadata": {
    "tags": []
   },
   "outputs": [
    {
     "data": {
      "image/png": "[encoded data removed]",
      "text/plain": [
       "<Figure size 640x480 with 2 Axes>"
      ]
     },
     "metadata": {},
     "output_type": "display_data"
    },
    {
     "name": "stdout",
     "output_type": "stream",
     "text": [
      "True Positives: 123680.0\n",
      "False Positives: 60130.0\n",
      "True Negatives: 129901.0\n",
      "False Negatives: 66218.0\n"
     ]
    }
   ],
   "source": [
    "# Extract TP, FP, TN, FN\n",
    "tp2 = confusion_matrix2[1, 1]  # True Positives\n",
    "fp2 = confusion_matrix2[0, 1]  # False Positives\n",
    "tn2 = confusion_matrix2[0, 0]  # True Negatives\n",
    "fn2 = confusion_matrix2[1, 0]  # False Negatives\n",
    "\n",
    "# Plot confusion matrix\n",
    "fig2, ax2 = plt.subplots()\n",
    "cax2 = ax2.matshow(confusion_matrix2, cmap='Blues')\n",
    "\n",
    "plt.title('Confusion Matrix')\n",
    "plt.xlabel('Predicted')\n",
    "plt.ylabel('Actual')\n",
    "plt.xticks([0, 1], ['Negative', 'Positive'])\n",
    "plt.yticks([0, 1], ['Negative', 'Positive'])\n",
    "plt.colorbar(cax2)\n",
    "\n",
    "# Display values inside the matrix\n",
    "for i in range(2):\n",
    "    for j in range(2):\n",
    "        plt.text(j, i, str(int(confusion_matrix2[i, j])), ha='center', va='center', color='red')\n",
    "\n",
    "plt.show()\n",
    "\n",
    "# Print TP, FP, TN, FN\n",
    "print(f\"True Positives: {tp2}\")\n",
    "print(f\"False Positives: {fp2}\")\n",
    "print(f\"True Negatives: {tn2}\")\n",
    "print(f\"False Negatives: {fn2}\")"
   ]
  },
  {
   "cell_type": "markdown",
   "id": "8154c229-bb76-41fc-b895-ca69da96a5f2",
   "metadata": {},
   "source": [
    "## Out of all 3 models LR is performing the best. Model name 'lrTfIdf42'. This will be used in Sentiment analysis."
   ]
  },
  {
   "cell_type": "markdown",
   "id": "7e2fd5a9-aa38-4534-841b-1de8b6f195c8",
   "metadata": {},
   "source": [
    "## Inference starts"
   ]
  },
  {
   "cell_type": "code",
   "execution_count": 87,
   "id": "35e6de79-92df-41aa-98d1-3e0f965f33ad",
   "metadata": {
    "tags": []
   },
   "outputs": [],
   "source": [
    "model1 = PipelineModel.load('lrTfIdf42')"
   ]
  },
  {
   "cell_type": "code",
   "execution_count": 88,
   "id": "c8f13ddd-eab6-4c75-b8a2-ce333ba45b9c",
   "metadata": {
    "tags": []
   },
   "outputs": [],
   "source": [
    "model2 = PipelineModel.load('gbttfidf2')"
   ]
  },
  {
   "cell_type": "code",
   "execution_count": 89,
   "id": "25cf0c97-dfd0-4b0a-ab1c-7198920bcd35",
   "metadata": {
    "tags": []
   },
   "outputs": [],
   "source": [
    "model3 = PipelineModel.load('DTmodel1')"
   ]
  },
  {
   "cell_type": "code",
   "execution_count": 90,
   "id": "bf9d90c7-a6fc-4141-a6aa-bf66470fa2ed",
   "metadata": {
    "tags": []
   },
   "outputs": [],
   "source": [
    "text=[\"The seller is selling this at a very high price for 8 phamplets, don't be fooled these cannot be called as books. Highly disappointed and apalled by the audacity of the seller. Trusted Amazon but disappointed\",\"Mini encyclopedia. Illustrations and photographies are good. A good collectible and definitel good food for bookworms.Complaint on packing - was not done with care. When I received the package and unboxed , found that the Book case cover was torn at one side - didn't have the time to get a replacement as this was a gift for our little one for his 6th birthday\",\"Good book, children like it. Picture quality also best\"]"
   ]
  },
  {
   "cell_type": "code",
   "execution_count": 93,
   "id": "edf89af2-8a07-4e48-b4a3-4b75ce9463b1",
   "metadata": {
    "tags": []
   },
   "outputs": [
    {
     "name": "stdout",
     "output_type": "stream",
     "text": [
      "+--------------------+\n",
      "|                text|\n",
      "+--------------------+\n",
      "|The seller is sel...|\n",
      "|Mini encyclopedia...|\n",
      "|Good book, childr...|\n",
      "+--------------------+\n",
      "\n"
     ]
    }
   ],
   "source": [
    "df = spark.createDataFrame([Row(text=string) for string in text])\n",
    "\n",
    "# Show the resulting DataFrame\n",
    "df.show()"
   ]
  },
  {
   "cell_type": "code",
   "execution_count": 94,
   "id": "981e3cbf-dd0f-42c7-83da-08b1e6bfd9db",
   "metadata": {
    "tags": []
   },
   "outputs": [],
   "source": [
    "p1 = model1.transform(df)\n",
    "p2 = model2.transform(df)\n",
    "p3 = model3.transform(df)"
   ]
  },
  {
   "cell_type": "code",
   "execution_count": 96,
   "id": "31a6a932-85e5-416d-a77e-8227d4d1cb64",
   "metadata": {
    "tags": []
   },
   "outputs": [
    {
     "name": "stdout",
     "output_type": "stream",
     "text": [
      "+-------------------------------------------------------------------------------------------------------------------------------------------------------------------------------------------------------------------------------------------------------------------------------------------------------------------------------------------------------------------------+----------+\n",
      "|text                                                                                                                                                                                                                                                                                                                                                                     |prediction|\n",
      "+-------------------------------------------------------------------------------------------------------------------------------------------------------------------------------------------------------------------------------------------------------------------------------------------------------------------------------------------------------------------------+----------+\n",
      "|The seller is selling this at a very high price for 8 phamplets, don't be fooled these cannot be called as books. Highly disappointed and apalled by the audacity of the seller. Trusted Amazon but disappointed                                                                                                                                                         |0.0       |\n",
      "|Mini encyclopedia. Illustrations and photographies are good. A good collectible and definitel good food for bookworms.Complaint on packing - was not done with care. When I received the package and unboxed , found that the Book case cover was torn at one side - didn't have the time to get a replacement as this was a gift for our little one for his 6th birthday|1.0       |\n",
      "|Good book, children like it. Picture quality also best                                                                                                                                                                                                                                                                                                                   |1.0       |\n",
      "+-------------------------------------------------------------------------------------------------------------------------------------------------------------------------------------------------------------------------------------------------------------------------------------------------------------------------------------------------------------------------+----------+\n",
      "\n"
     ]
    }
   ],
   "source": [
    "p1.select('text','prediction').show(truncate=False)"
   ]
  },
  {
   "cell_type": "code",
   "execution_count": 97,
   "id": "2c2950eb-186c-4f26-ab3e-48c5a0043ee7",
   "metadata": {
    "tags": []
   },
   "outputs": [
    {
     "name": "stdout",
     "output_type": "stream",
     "text": [
      "+-------------------------------------------------------------------------------------------------------------------------------------------------------------------------------------------------------------------------------------------------------------------------------------------------------------------------------------------------------------------------+----------+\n",
      "|text                                                                                                                                                                                                                                                                                                                                                                     |prediction|\n",
      "+-------------------------------------------------------------------------------------------------------------------------------------------------------------------------------------------------------------------------------------------------------------------------------------------------------------------------------------------------------------------------+----------+\n",
      "|The seller is selling this at a very high price for 8 phamplets, don't be fooled these cannot be called as books. Highly disappointed and apalled by the audacity of the seller. Trusted Amazon but disappointed                                                                                                                                                         |0.0       |\n",
      "|Mini encyclopedia. Illustrations and photographies are good. A good collectible and definitel good food for bookworms.Complaint on packing - was not done with care. When I received the package and unboxed , found that the Book case cover was torn at one side - didn't have the time to get a replacement as this was a gift for our little one for his 6th birthday|0.0       |\n",
      "|Good book, children like it. Picture quality also best                                                                                                                                                                                                                                                                                                                   |1.0       |\n",
      "+-------------------------------------------------------------------------------------------------------------------------------------------------------------------------------------------------------------------------------------------------------------------------------------------------------------------------------------------------------------------------+----------+\n",
      "\n"
     ]
    }
   ],
   "source": [
    "p2.select('text','prediction').show(truncate=False)"
   ]
  },
  {
   "cell_type": "code",
   "execution_count": 98,
   "id": "e1897ae4-69be-4f90-8d68-e9b6f134bc00",
   "metadata": {
    "tags": []
   },
   "outputs": [
    {
     "name": "stdout",
     "output_type": "stream",
     "text": [
      "+-------------------------------------------------------------------------------------------------------------------------------------------------------------------------------------------------------------------------------------------------------------------------------------------------------------------------------------------------------------------------+----------+\n",
      "|text                                                                                                                                                                                                                                                                                                                                                                     |prediction|\n",
      "+-------------------------------------------------------------------------------------------------------------------------------------------------------------------------------------------------------------------------------------------------------------------------------------------------------------------------------------------------------------------------+----------+\n",
      "|The seller is selling this at a very high price for 8 phamplets, don't be fooled these cannot be called as books. Highly disappointed and apalled by the audacity of the seller. Trusted Amazon but disappointed                                                                                                                                                         |0.0       |\n",
      "|Mini encyclopedia. Illustrations and photographies are good. A good collectible and definitel good food for bookworms.Complaint on packing - was not done with care. When I received the package and unboxed , found that the Book case cover was torn at one side - didn't have the time to get a replacement as this was a gift for our little one for his 6th birthday|1.0       |\n",
      "|Good book, children like it. Picture quality also best                                                                                                                                                                                                                                                                                                                   |1.0       |\n",
      "+-------------------------------------------------------------------------------------------------------------------------------------------------------------------------------------------------------------------------------------------------------------------------------------------------------------------------------------------------------------------------+----------+\n",
      "\n"
     ]
    }
   ],
   "source": [
    "p3.select('text','prediction').show(truncate=False)"
   ]
  }
 ],
 "metadata": {
  "kernelspec": {
   "display_name": "Python 3 (ipykernel)",
   "language": "python",
   "name": "python3"
  },
  "language_info": {
   "codemirror_mode": {
    "name": "ipython",
    "version": 3
   },
   "file_extension": ".py",
   "mimetype": "text/x-python",
   "name": "python",
   "nbconvert_exporter": "python",
   "pygments_lexer": "ipython3",
   "version": "3.11.5"
  }
 },
 "nbformat": 4,
 "nbformat_minor": 5
}
