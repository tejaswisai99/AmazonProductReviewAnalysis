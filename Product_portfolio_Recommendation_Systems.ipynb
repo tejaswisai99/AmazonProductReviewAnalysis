{
 "cells": [
  {
   "cell_type": "code",
   "execution_count": 1,
   "id": "3c02fa58-49a4-42f5-8525-6fb8e3c9915a",
   "metadata": {
    "tags": []
   },
   "outputs": [
    {
     "name": "stdout",
     "output_type": "stream",
     "text": [
      "Default Parallelism: 2\n"
     ]
    },
    {
     "data": {
      "text/html": [
       "\n",
       "            <div>\n",
       "                <p><b>SparkSession - in-memory</b></p>\n",
       "                \n",
       "        <div>\n",
       "            <p><b>SparkContext</b></p>\n",
       "\n",
       "            <p><a href=\"http://DESKTOP-TUHL9AH:4051\">Spark UI</a></p>\n",
       "\n",
       "            <dl>\n",
       "              <dt>Version</dt>\n",
       "                <dd><code>v3.5.0</code></dd>\n",
       "              <dt>Master</dt>\n",
       "                <dd><code>local[2]</code></dd>\n",
       "              <dt>AppName</dt>\n",
       "                <dd><code>Colab</code></dd>\n",
       "            </dl>\n",
       "        </div>\n",
       "        \n",
       "            </div>\n",
       "        "
      ],
      "text/plain": [
       "<pyspark.sql.session.SparkSession at 0x1f92e8f8f10>"
      ]
     },
     "execution_count": 1,
     "metadata": {},
     "output_type": "execute_result"
    }
   ],
   "source": [
    "import findspark\n",
    "findspark.init()\n",
    "findspark.find()\n",
    "from pyspark.sql import SparkSession\n",
    "input_type = 'sample'\n",
    "spark = SparkSession.builder\\\n",
    "         .master(\"local[2]\")\\\n",
    "         .appName(\"Colab\")\\\n",
    "         .config('spark.ui.port', '4050').config(\"spark.executor.memory\", \"7g\").getOrCreate()\n",
    "default_parallelism = spark.sparkContext.defaultParallelism\n",
    "print(f\"Default Parallelism: {default_parallelism}\")\n",
    "spark"
   ]
  },
  {
   "cell_type": "markdown",
   "id": "0f5b8ae3-a97d-4984-9d51-aa75dbfed372",
   "metadata": {},
   "source": [
    "### Initializing Spark"
   ]
  },
  {
   "cell_type": "markdown",
   "id": "f2c12117-4c92-4ece-b1a8-f57639ef1662",
   "metadata": {},
   "source": [
    "### Imports"
   ]
  },
  {
   "cell_type": "code",
   "execution_count": 60,
   "id": "ea190d28-bbf6-4bf8-a1b2-a0170c0f36d9",
   "metadata": {
    "tags": []
   },
   "outputs": [],
   "source": [
    "from pyspark.sql import Row\n",
    "from pyspark.sql.functions import expr, lower, regexp_replace, split, udf, regexp_extract, col,size,collect_list,count,explode,when,rand\n",
    "from pyspark.sql.types import ArrayType, StringType, DoubleType\n",
    "from pyspark.ml.feature import CountVectorizer, HashingTF, IDF, Tokenizer, StopWordsRemover\n",
    "from pyspark.ml.classification import LogisticRegression, LinearSVC, DecisionTreeClassifier\n",
    "from pyspark.ml.evaluation import MulticlassClassificationEvaluator\n",
    "from pyspark.mllib.evaluation import MulticlassMetrics\n",
    "from pyspark.ml import PipelineModel\n",
    "from pyspark.ml.recommendation import ALSModel\n",
    "from pyspark.sql import functions as F\n",
    "from pyspark.sql.window import Window  # Import the Window class\n",
    "\n",
    "import matplotlib.pyplot as plt\n",
    "import numpy as np"
   ]
  },
  {
   "cell_type": "markdown",
   "id": "e11d321f-c4cd-47bd-93cb-9851682a8ef7",
   "metadata": {},
   "source": [
    "### Data taken from https://cseweb.ucsd.edu/~jmcauley/datasets/amazon_v2/#code\n",
    "### This contains 3 kinds of data. \n",
    "### 1. Total review data containing review text, review summary, overall (Sizes of the order of GBs - books data is 6.5GB)\n",
    "### 2. K-Core data - Each product will have K ratings given by users (It's a shortened version of 1st data set)\n",
    "### 3. Metadata of the products reviewed. Contains some useful columns like features, also_buy etc.\n",
    "### The data is further split into categories (Video games, Books, kindle review, software, clothes etc)"
   ]
  },
  {
   "cell_type": "markdown",
   "id": "15abe9e0-5ba1-4632-a71e-f03cf36fa3b2",
   "metadata": {},
   "source": [
    "### Data visualization - metadata (3rd one)"
   ]
  },
  {
   "cell_type": "code",
   "execution_count": 3,
   "id": "4b4d06c3-6439-442a-8890-2713c79cefac",
   "metadata": {
    "tags": []
   },
   "outputs": [
    {
     "name": "stdout",
     "output_type": "stream",
     "text": [
      "+--------+--------------------+----------+--------------+--------------------+-----------------+--------------------+--------------------+--------------------+---+--------------------+--------------------+--------------------+--------------------+--------------------+------------+--------------------+-----+--------------------+\n",
      "|also_buy|           also_view|      asin|         brand|            category|             date|         description|             details|             feature|fit|            imageURL|     imageURLHighRes|            main_cat|               price|                rank|similar_item|               tech1|tech2|               title|\n",
      "+--------+--------------------+----------+--------------+--------------------+-----------------+--------------------+--------------------+--------------------+---+--------------------+--------------------+--------------------+--------------------+--------------------+------------+--------------------+-----+--------------------+\n",
      "|      []|                  []|7301113188|    Tupperware|[Appliances, Refr...|November 19, 2008|                  []|{NULL, NULL, NULL...|[Each 3-pc. set i...|   |                  []|                  []|          Appliances|                    |[\">#39,745 in App...|            | class=\"a-keyvalu...|     |Tupperware Freeze...|\n",
      "|      []|        [B004RUGHJW]|7861850250|    Tupperware|[Appliances, Refr...|     June 5, 2016|[2 X Tupperware P...|{NULL, NULL, NULL...|[2 X Tupperware P...|   |[https://images-n...|[https://images-n...|          Appliances|               $3.62|[\">#6,118 in Appl...|            | class=\"a-keyvalu...|     |2 X Tupperware Pu...|\n",
      "|      []|[B01HCAVSLK, 1632...|8792559360|The Cigar Book|[Appliances, Part...|                 |                  []|{NULL, NULL, NULL...|                  []|   |[https://images-n...|[https://images-n...|         Amazon Home|             $150.26|[\">#1,861,816 in ...|            |                    |     |The Cigar - Momen...|\n",
      "|      []|                  []|9792954481|     Caraselle|[Appliances, Part...|December 17, 2014|[Multi purpost de...|{NULL, NULL, NULL...|                  []|   |[https://images-n...|[https://images-n...|Tools & Home Impr...|.a-box-inner{back...|[\">#1,654,505 in ...|            | class=\"a-keyvalu...|     |Caraselle 2X 50G ...|\n",
      "|      []|                  []|B00002N5EL|  EATON Wiring|[Appliances, Part...| January 16, 2007|[Full gauge and s...|{NULL, NULL, NULL...|[Returns will not...|   |                  []|                  []|Tools & Home Impr...|               $3.43|[\">#3,066,990 in ...|            | class=\"a-keyvalu...|     |EATON Wiring 39CH...|\n",
      "+--------+--------------------+----------+--------------+--------------------+-----------------+--------------------+--------------------+--------------------+---+--------------------+--------------------+--------------------+--------------------+--------------------+------------+--------------------+-----+--------------------+\n",
      "only showing top 5 rows\n",
      "\n"
     ]
    }
   ],
   "source": [
    "metadata_df = spark.read.json('D:\\\\DE\\\\meta_Appliances.json')\n",
    "\n",
    "# Show the DataFrame\n",
    "metadata_df.show(5)"
   ]
  },
  {
   "cell_type": "markdown",
   "id": "2b7cb6c6-cce1-4abc-832a-46684ffe89ab",
   "metadata": {},
   "source": [
    "#### Schema for metadata - This would be same for all categories"
   ]
  },
  {
   "cell_type": "code",
   "execution_count": 4,
   "id": "20f110a8-1263-4071-a338-7705a40d3cc3",
   "metadata": {
    "tags": []
   },
   "outputs": [
    {
     "name": "stdout",
     "output_type": "stream",
     "text": [
      "root\n",
      " |-- also_buy: array (nullable = true)\n",
      " |    |-- element: string (containsNull = true)\n",
      " |-- also_view: array (nullable = true)\n",
      " |    |-- element: string (containsNull = true)\n",
      " |-- asin: string (nullable = true)\n",
      " |-- brand: string (nullable = true)\n",
      " |-- category: array (nullable = true)\n",
      " |    |-- element: string (containsNull = true)\n",
      " |-- date: string (nullable = true)\n",
      " |-- description: array (nullable = true)\n",
      " |    |-- element: string (containsNull = true)\n",
      " |-- details: struct (nullable = true)\n",
      " |    |-- \\n    Item Weight: \\n    : string (nullable = true)\n",
      " |    |-- \\n    Product Dimensions: \\n    : string (nullable = true)\n",
      " |    |-- ASIN:: string (nullable = true)\n",
      " |    |-- ASIN: : string (nullable = true)\n",
      " |    |-- Batteries: string (nullable = true)\n",
      " |    |-- Domestic Shipping: : string (nullable = true)\n",
      " |    |-- International Shipping: : string (nullable = true)\n",
      " |    |-- Item model number:: string (nullable = true)\n",
      " |    |-- Publisher:: string (nullable = true)\n",
      " |    |-- Shipping Advisory:: string (nullable = true)\n",
      " |    |-- Shipping Weight:: string (nullable = true)\n",
      " |    |-- UPC:: string (nullable = true)\n",
      " |-- feature: array (nullable = true)\n",
      " |    |-- element: string (containsNull = true)\n",
      " |-- fit: string (nullable = true)\n",
      " |-- imageURL: array (nullable = true)\n",
      " |    |-- element: string (containsNull = true)\n",
      " |-- imageURLHighRes: array (nullable = true)\n",
      " |    |-- element: string (containsNull = true)\n",
      " |-- main_cat: string (nullable = true)\n",
      " |-- price: string (nullable = true)\n",
      " |-- rank: string (nullable = true)\n",
      " |-- similar_item: string (nullable = true)\n",
      " |-- tech1: string (nullable = true)\n",
      " |-- tech2: string (nullable = true)\n",
      " |-- title: string (nullable = true)\n",
      "\n"
     ]
    }
   ],
   "source": [
    "metadata_df.printSchema()"
   ]
  },
  {
   "cell_type": "markdown",
   "id": "1095dbb1-8580-4096-b5a3-6766e0dfd6f2",
   "metadata": {},
   "source": [
    "#### Selection and description of useful columns for the upcoming tasks\n",
    "asin -> product-ID (unique and never null)   \n",
    "also_buy -> also_buy (It's empty a lot of times - Can't be used directly for recommendation systems - We need to figure out a way to fill empty array)  \n",
    "also_view -> also_view (It's empty a lot of times - Can't be used directly for recommendation systems - We need to figure out a way to fill empty array)  \n",
    "main_cat -> category (main category of the product described)  \n",
    "description -> description (description of the product - empty lot of times)  \n",
    "price -> price (of the product)  \n",
    "title -> title (of the product)  \n",
    "rank -> rank (#27262 in Total & #333 in games etc.)\n",
    "brand -> brand (of the product)"
   ]
  },
  {
   "cell_type": "code",
   "execution_count": 5,
   "id": "6418c86a-59e5-47ba-b8b5-188726d9feb6",
   "metadata": {
    "tags": []
   },
   "outputs": [],
   "source": [
    "metadata_df_2 = metadata_df['asin','also_buy','also_view','main_cat','description','price','title','rank','brand']"
   ]
  },
  {
   "cell_type": "markdown",
   "id": "56d648d5-e6bd-467e-b915-55bfd6a0099d",
   "metadata": {},
   "source": [
    "##### Let's see the number of missing values in each column in the selected data frame - this is important for doing future tasks - We may have to do Imputation"
   ]
  },
  {
   "cell_type": "code",
   "execution_count": 6,
   "id": "f9b37b2f-a7f7-466d-98d5-47bff8940f28",
   "metadata": {
    "tags": []
   },
   "outputs": [],
   "source": [
    "def count_missing(df):\n",
    "    schema = df.schema\n",
    "    print(f\"Total rows in the DF: {df.count()}\")\n",
    "    print(\"-\" * 30)\n",
    "    \n",
    "    # Iterate through columns and print information\n",
    "    for field in schema.fields:\n",
    "        column_name = field.name\n",
    "        data_type = str(field.dataType)\n",
    "        empty_null_count = count_empty_null(column_name, data_type,df)\n",
    "        print(f\"Column: {column_name}, Empty/Null Count: {empty_null_count}\")\n",
    "\n",
    "    # Define functions to count empty and null values\n",
    "def count_empty_null(column_name, data_type,df):\n",
    "    if (data_type == \"StringType()\") | (\"ouble\" in data_type):\n",
    "        empty = df.filter((col(column_name) == \"\")).count()\n",
    "        nc = df.filter((col(column_name).isNull())).count()\n",
    "        print(f\"Empty: {empty} and Null: {nc}\")\n",
    "        return empty+nc\n",
    "    elif data_type == \"ArrayType(StringType(), True)\":\n",
    "        return df.filter((col(column_name).isNull()) | (size(col(column_name)) == 0)).count()\n",
    "    else:\n",
    "        return 0\n",
    "\n",
    "#count_missing(metadata_df_2)"
   ]
  },
  {
   "cell_type": "markdown",
   "id": "1abd7677-52fd-4ea9-a5ab-3be4d6289216",
   "metadata": {},
   "source": [
    "#### Imputing columns title and dropping products without a category main_cat (with NA)"
   ]
  },
  {
   "cell_type": "code",
   "execution_count": 7,
   "id": "23ca384a-764e-4f6e-bb1b-d2e895b3302b",
   "metadata": {
    "tags": []
   },
   "outputs": [
    {
     "data": {
      "text/plain": [
       "[Row(main_cat='All Electronics'),\n",
       " Row(main_cat='Home Audio & Theater'),\n",
       " Row(main_cat='Pet Supplies'),\n",
       " Row(main_cat='Toys & Games'),\n",
       " Row(main_cat='Baby'),\n",
       " Row(main_cat='Sports & Outdoors'),\n",
       " Row(main_cat='Automotive'),\n",
       " Row(main_cat='Books'),\n",
       " Row(main_cat='Amazon Home'),\n",
       " Row(main_cat='Industrial & Scientific'),\n",
       " Row(main_cat='Health & Personal Care'),\n",
       " Row(main_cat='Cell Phones & Accessories'),\n",
       " Row(main_cat='Arts, Crafts & Sewing'),\n",
       " Row(main_cat='Tools & Home Improvement'),\n",
       " Row(main_cat='All Beauty'),\n",
       " Row(main_cat='Office Products'),\n",
       " Row(main_cat='Appliances'),\n",
       " Row(main_cat='Musical Instruments'),\n",
       " Row(main_cat='NA_CATEGORY'),\n",
       " Row(main_cat='Computers'),\n",
       " Row(main_cat='Grocery'),\n",
       " Row(main_cat='Camera & Photo'),\n",
       " Row(main_cat='AMAZON FASHION')]"
      ]
     },
     "execution_count": 7,
     "metadata": {},
     "output_type": "execute_result"
    }
   ],
   "source": [
    "columns_to_fill = [\"title\"]\n",
    "metadata_df_2 = metadata_df_2.withColumn(\"main_cat\", F.when(F.col(\"main_cat\").contains(\"&amp;\"), F.regexp_replace(\"main_cat\", \"&amp;\", \"&\")).otherwise(F.col(\"main_cat\")))\n",
    "metadata_df_2 = metadata_df_2.withColumn(\"main_cat\", F.when(F.col(\"main_cat\").contains(\"<\"), \"AMAZON FASHION\").otherwise(F.col(\"main_cat\")))\n",
    "metadata_df_2 = metadata_df_2.withColumn(\"main_cat\", F.when((F.col(\"main_cat\")==\"\"), \"NA_CATEGORY\").otherwise(F.col(\"main_cat\")))\n",
    "metadata_df_2 = metadata_df_2.withColumn(\"brand\", F.when((F.col(\"brand\")==\"\"), \"NA_BRAND\").otherwise(F.col(\"brand\")))\n",
    "metadata_df_2 = metadata_df_2.withColumn(\"title\", F.when((F.col(\"title\")==\"\"), \"NO_TITLE\").otherwise(F.col(\"title\")))\n",
    "metadata_df_2.na.drop(subset=[\"main_cat\"])\n",
    "#count_missing(metadata_df_2)\n",
    "metadata_df_2.select('main_cat').distinct().collect()"
   ]
  },
  {
   "cell_type": "markdown",
   "id": "e222c9cf-a4b3-4db1-bc4e-772692c69bcb",
   "metadata": {},
   "source": [
    "#### We can't directly use also_buy column to build a recommendation system as it is incomplete. \n",
    "#### We need to find possible ways to fill up empty arrays\n",
    "#### The data also contains also_buy and also_view values coming from other categories"
   ]
  },
  {
   "cell_type": "markdown",
   "id": "4df2a2bb-9d71-4cb0-b578-63e4f7a82d64",
   "metadata": {},
   "source": [
    "### Review data"
   ]
  },
  {
   "cell_type": "code",
   "execution_count": 8,
   "id": "3f513fc0-794b-4d1c-a140-e57424f05c0d",
   "metadata": {
    "tags": []
   },
   "outputs": [
    {
     "name": "stdout",
     "output_type": "stream",
     "text": [
      "+----------+-----+-------+--------------------+-----------+--------------+--------------------+--------------------+--------------------+--------------+--------+----+\n",
      "|      asin|image|overall|          reviewText| reviewTime|    reviewerID|        reviewerName|               style|             summary|unixReviewTime|verified|vote|\n",
      "+----------+-----+-------+--------------------+-----------+--------------+--------------------+--------------------+--------------------+--------------+--------+----+\n",
      "|1118461304| NULL|    5.0|Not one thing in ...|11 27, 2013|A3NHUQ33CFH3VM|              Greeny|{NULL, NULL, NULL...|Clear on what lea...|    1385510400|   false|   2|\n",
      "|1118461304| NULL|    5.0|I have enjoyed Dr...| 11 1, 2013|A3SK6VNBQDNBJE|     Leif C. Ulstrup|{NULL, NULL, NULL...|Becoming more inn...|    1383264000|   false|NULL|\n",
      "|1118461304| NULL|    5.0|Alan Gregerman be...|10 10, 2013|A3SOFHUR27FO3K|Harry Gilbert Mil...|{NULL, NULL, NULL...|The World from Di...|    1381363200|   false|NULL|\n",
      "|1118461304| NULL|    5.0|Alan Gregerman is...| 10 9, 2013|A1HOG1PYCAE157|      Rebecca Ripley|{NULL, NULL, NULL...|Strangers are You...|    1381276800|   false|NULL|\n",
      "|1118461304| NULL|    5.0|As I began to rea...| 09 7, 2013|A26JGAM6GZMM4V|       Robert Morris|{NULL, NULL, NULL...|How and why it is...|    1378512000|   false|  10|\n",
      "+----------+-----+-------+--------------------+-----------+--------------+--------------------+--------------------+--------------------+--------------+--------+----+\n",
      "only showing top 5 rows\n",
      "\n"
     ]
    }
   ],
   "source": [
    "review_df = spark.read.json('D:\\\\DE\\\\Appliances.json')\n",
    "review_df = review_df.na.drop(subset=[\"reviewText\",\"summary\"])\n",
    "review_df.show(5)"
   ]
  },
  {
   "cell_type": "markdown",
   "id": "83b9e226-65ec-4cd3-818d-d71213006a9d",
   "metadata": {},
   "source": [
    "#### Relevant columns\n",
    "asin-> productID  \n",
    "reviewerID -> unique id of reviewer  \n",
    "overall -> contains rating (between 1 and 5 - ratings are always available for all reviews)  \n",
    "reviewText -> actual review of the user  \n",
    "unixReviewingTime -> Time of the review  \n",
    "vote -> votes obtained for the particular review - we can use it for weighing the review"
   ]
  },
  {
   "cell_type": "code",
   "execution_count": 9,
   "id": "49d51c35-a7d3-4fa3-92dd-8534e0eb81f8",
   "metadata": {
    "tags": []
   },
   "outputs": [],
   "source": [
    "review_df = review_df['asin','vote','overall','reviewerID','reviewText','summary','unixReviewTime']"
   ]
  },
  {
   "cell_type": "markdown",
   "id": "f24c4e57-60c0-446b-97d1-c2d1bf0db62f",
   "metadata": {},
   "source": [
    "##### If vote column is null, we will replace it with 0"
   ]
  },
  {
   "cell_type": "code",
   "execution_count": 10,
   "id": "760dcddc-2f45-40a5-9e52-8affe67214a1",
   "metadata": {
    "tags": []
   },
   "outputs": [
    {
     "name": "stdout",
     "output_type": "stream",
     "text": [
      "+----------+----+-------+--------------+--------------------+--------------------+--------------+\n",
      "|      asin|vote|overall|    reviewerID|          reviewText|             summary|unixReviewTime|\n",
      "+----------+----+-------+--------------+--------------------+--------------------+--------------+\n",
      "|1118461304|   2|    5.0|A3NHUQ33CFH3VM|Not one thing in ...|Clear on what lea...|    1385510400|\n",
      "|1118461304|   0|    5.0|A3SK6VNBQDNBJE|I have enjoyed Dr...|Becoming more inn...|    1383264000|\n",
      "|1118461304|   0|    5.0|A3SOFHUR27FO3K|Alan Gregerman be...|The World from Di...|    1381363200|\n",
      "|1118461304|   0|    5.0|A1HOG1PYCAE157|Alan Gregerman is...|Strangers are You...|    1381276800|\n",
      "|1118461304|  10|    5.0|A26JGAM6GZMM4V|As I began to rea...|How and why it is...|    1378512000|\n",
      "+----------+----+-------+--------------+--------------------+--------------------+--------------+\n",
      "only showing top 5 rows\n",
      "\n"
     ]
    }
   ],
   "source": [
    "review_df = review_df.fillna(\"0\",subset=[\"vote\"])\n",
    "review_df.show(5)"
   ]
  },
  {
   "cell_type": "markdown",
   "id": "59fb4704-65cd-4848-a0a9-2c658b04bc6d",
   "metadata": {},
   "source": [
    "#### Getting sentiment extracted\n",
    "\n",
    "The methodology: If rating is 1 and 2 (Negative)  \n",
    "If rating is 5 and 4 (Positive)  \n",
    "For 3 we will use pretrained LR model"
   ]
  },
  {
   "cell_type": "code",
   "execution_count": 11,
   "id": "6efaf5e6-b265-45b3-9f0c-31489c5d992b",
   "metadata": {
    "tags": []
   },
   "outputs": [],
   "source": [
    "loaded_model = PipelineModel.load('lrTfIdf42')"
   ]
  },
  {
   "cell_type": "code",
   "execution_count": 12,
   "id": "59ddbe4c-df6a-45f8-8ed7-727494c885fe",
   "metadata": {
    "tags": []
   },
   "outputs": [
    {
     "name": "stdout",
     "output_type": "stream",
     "text": [
      "+----------+----+-------+--------------+--------------------+--------------------+--------------+--------------------+\n",
      "|      asin|vote|overall|    reviewerID|          reviewText|             summary|unixReviewTime|                text|\n",
      "+----------+----+-------+--------------+--------------------+--------------------+--------------+--------------------+\n",
      "|1118461304|   2|    5.0|A3NHUQ33CFH3VM|Not one thing in ...|Clear on what lea...|    1385510400|Clear on what lea...|\n",
      "|1118461304|   0|    5.0|A3SK6VNBQDNBJE|I have enjoyed Dr...|Becoming more inn...|    1383264000|Becoming more inn...|\n",
      "|1118461304|   0|    5.0|A3SOFHUR27FO3K|Alan Gregerman be...|The World from Di...|    1381363200|The World from Di...|\n",
      "|1118461304|   0|    5.0|A1HOG1PYCAE157|Alan Gregerman is...|Strangers are You...|    1381276800|Strangers are You...|\n",
      "|1118461304|  10|    5.0|A26JGAM6GZMM4V|As I began to rea...|How and why it is...|    1378512000|How and why it is...|\n",
      "+----------+----+-------+--------------+--------------------+--------------------+--------------+--------------------+\n",
      "only showing top 5 rows\n",
      "\n"
     ]
    }
   ],
   "source": [
    "review_df = review_df.withColumn('text',F.concat(F.col('summary'),F.lit(\" \"),F.col('reviewText')))\n",
    "review_df.show(5)"
   ]
  },
  {
   "cell_type": "code",
   "execution_count": 13,
   "id": "0db74998-1609-428c-96e7-5b0ce3a340ef",
   "metadata": {
    "tags": []
   },
   "outputs": [
    {
     "name": "stdout",
     "output_type": "stream",
     "text": [
      "+----------+----+-------+--------------+--------------+--------------------+\n",
      "|      asin|vote|overall|    reviewerID|unixReviewTime|                text|\n",
      "+----------+----+-------+--------------+--------------+--------------------+\n",
      "|1118461304|   2|    5.0|A3NHUQ33CFH3VM|    1385510400|Clear on what lea...|\n",
      "|1118461304|   0|    5.0|A3SK6VNBQDNBJE|    1383264000|Becoming more inn...|\n",
      "|1118461304|   0|    5.0|A3SOFHUR27FO3K|    1381363200|The World from Di...|\n",
      "|1118461304|   0|    5.0|A1HOG1PYCAE157|    1381276800|Strangers are You...|\n",
      "|1118461304|  10|    5.0|A26JGAM6GZMM4V|    1378512000|How and why it is...|\n",
      "+----------+----+-------+--------------+--------------+--------------------+\n",
      "only showing top 5 rows\n",
      "\n"
     ]
    }
   ],
   "source": [
    "columns_to_drop = [\"reviewText\",\"summary\"]\n",
    "review_df = review_df.drop(*columns_to_drop)\n",
    "review_df.show(5)"
   ]
  },
  {
   "cell_type": "code",
   "execution_count": 14,
   "id": "2d7b5f44-fdd7-41bc-be10-3b46c04c4be2",
   "metadata": {
    "tags": []
   },
   "outputs": [],
   "source": [
    "review_df_fixed = review_df.filter(col('overall')!=3.0)\n",
    "review_df_eval = review_df.filter(col('overall')==3.0)"
   ]
  },
  {
   "cell_type": "code",
   "execution_count": 15,
   "id": "811ca3cc-7ad9-43f1-b5b6-c5f71f3213f6",
   "metadata": {
    "tags": []
   },
   "outputs": [
    {
     "name": "stdout",
     "output_type": "stream",
     "text": [
      "Total rows in the DF: 602340\n",
      "------------------------------\n",
      "Empty: 0 and Null: 0\n",
      "Column: asin, Empty/Null Count: 0\n",
      "Empty: 0 and Null: 0\n",
      "Column: vote, Empty/Null Count: 0\n",
      "Empty: 0 and Null: 0\n",
      "Column: overall, Empty/Null Count: 0\n",
      "Empty: 0 and Null: 0\n",
      "Column: reviewerID, Empty/Null Count: 0\n",
      "Column: unixReviewTime, Empty/Null Count: 0\n",
      "Empty: 0 and Null: 0\n",
      "Column: text, Empty/Null Count: 0\n"
     ]
    }
   ],
   "source": [
    "count_missing(review_df)"
   ]
  },
  {
   "cell_type": "code",
   "execution_count": 15,
   "id": "221b0ae1-dd78-4dc5-b2ce-f09bc3d2374e",
   "metadata": {
    "tags": []
   },
   "outputs": [],
   "source": [
    "review_df_fixed = review_df_fixed.withColumn('sentiment',\n",
    "                                            when(col('overall')>3,1.0).\n",
    "                                            when(col('overall')<3, 0.0).otherwise(None))"
   ]
  },
  {
   "cell_type": "code",
   "execution_count": 138,
   "id": "75c57b68-ef9f-4da1-b6cf-803aaf840a78",
   "metadata": {
    "tags": []
   },
   "outputs": [
    {
     "name": "stdout",
     "output_type": "stream",
     "text": [
      "+----------+----+-------+--------------+--------------+--------------------+---------+\n",
      "|      asin|vote|overall|    reviewerID|unixReviewTime|                text|sentiment|\n",
      "+----------+----+-------+--------------+--------------+--------------------+---------+\n",
      "|1118461304|   2|    5.0|A3NHUQ33CFH3VM|    1385510400|Clear on what lea...|      1.0|\n",
      "|1118461304|   0|    5.0|A3SK6VNBQDNBJE|    1383264000|Becoming more inn...|      1.0|\n",
      "|1118461304|   0|    5.0|A3SOFHUR27FO3K|    1381363200|The World from Di...|      1.0|\n",
      "|1118461304|   0|    5.0|A1HOG1PYCAE157|    1381276800|Strangers are You...|      1.0|\n",
      "|1118461304|  10|    5.0|A26JGAM6GZMM4V|    1378512000|How and why it is...|      1.0|\n",
      "+----------+----+-------+--------------+--------------+--------------------+---------+\n",
      "only showing top 5 rows\n",
      "\n"
     ]
    }
   ],
   "source": [
    "review_df_fixed.show(5)"
   ]
  },
  {
   "cell_type": "code",
   "execution_count": 16,
   "id": "e0a00261-55b6-4284-b689-30439568d871",
   "metadata": {
    "tags": []
   },
   "outputs": [
    {
     "name": "stdout",
     "output_type": "stream",
     "text": [
      "+----------+----+-------+--------------+--------------+--------------------+----------+\n",
      "|      asin|vote|overall|    reviewerID|unixReviewTime|                text|prediction|\n",
      "+----------+----+-------+--------------+--------------+--------------------+----------+\n",
      "|1118461304|   0|    3.0|A1B70ZEWQ6UH1A|    1389398400|Fish are stranger...|       1.0|\n",
      "|1118461304|   0|    3.0|A2RQ0AT4XZUIXL|    1388102400|Good topic, very ...|       1.0|\n",
      "|1118461304|   0|    3.0|A2QKCOX5ACRHC5|    1386201600|An elegant and si...|       1.0|\n",
      "|B00004SQHD|   0|    3.0|A2Y7GJMFR0886X|    1430870400|The cable works, ...|       0.0|\n",
      "|B00004YWK2|   0|    3.0|A2DHQKNGSYEHLS|    1496707200|Three Stars The b...|       0.0|\n",
      "+----------+----+-------+--------------+--------------+--------------------+----------+\n",
      "only showing top 5 rows\n",
      "\n"
     ]
    }
   ],
   "source": [
    "columns_to_drop = ['words','rawFeatures','features','rawPrediction','probability']\n",
    "review_df_eval = loaded_model.transform(review_df_eval)\n",
    "review_df_eval = review_df_eval.drop(*columns_to_drop)\n",
    "review_df_eval.show(5)"
   ]
  },
  {
   "cell_type": "code",
   "execution_count": 17,
   "id": "eaaca7c4-0872-46e1-b7f1-4a5bbd8ae2a4",
   "metadata": {
    "tags": []
   },
   "outputs": [
    {
     "name": "stdout",
     "output_type": "stream",
     "text": [
      "+----------+----+-------+--------------+--------------+--------------------+---------+\n",
      "|      asin|vote|overall|    reviewerID|unixReviewTime|                text|sentiment|\n",
      "+----------+----+-------+--------------+--------------+--------------------+---------+\n",
      "|1118461304|   0|    3.0|A1B70ZEWQ6UH1A|    1389398400|Fish are stranger...|      1.0|\n",
      "|1118461304|   0|    3.0|A2RQ0AT4XZUIXL|    1388102400|Good topic, very ...|      1.0|\n",
      "|1118461304|   0|    3.0|A2QKCOX5ACRHC5|    1386201600|An elegant and si...|      1.0|\n",
      "|B00004SQHD|   0|    3.0|A2Y7GJMFR0886X|    1430870400|The cable works, ...|      0.0|\n",
      "|B00004YWK2|   0|    3.0|A2DHQKNGSYEHLS|    1496707200|Three Stars The b...|      0.0|\n",
      "+----------+----+-------+--------------+--------------+--------------------+---------+\n",
      "only showing top 5 rows\n",
      "\n"
     ]
    }
   ],
   "source": [
    "review_df_eval = review_df_eval.withColumnRenamed('prediction','sentiment')\n",
    "review_df_eval.show(5)"
   ]
  },
  {
   "cell_type": "code",
   "execution_count": 18,
   "id": "b6c26bd1-b5cf-4807-a17d-26f068eb9acf",
   "metadata": {
    "tags": []
   },
   "outputs": [
    {
     "name": "stdout",
     "output_type": "stream",
     "text": [
      "+----------+----+-------+--------------+--------------+--------------------+---------+\n",
      "|      asin|vote|overall|    reviewerID|unixReviewTime|                text|sentiment|\n",
      "+----------+----+-------+--------------+--------------+--------------------+---------+\n",
      "|1118461304|   2|    5.0|A3NHUQ33CFH3VM|    1385510400|Clear on what lea...|      1.0|\n",
      "|1118461304|   0|    5.0|A3SK6VNBQDNBJE|    1383264000|Becoming more inn...|      1.0|\n",
      "|1118461304|   0|    5.0|A3SOFHUR27FO3K|    1381363200|The World from Di...|      1.0|\n",
      "|1118461304|   0|    5.0|A1HOG1PYCAE157|    1381276800|Strangers are You...|      1.0|\n",
      "|1118461304|  10|    5.0|A26JGAM6GZMM4V|    1378512000|How and why it is...|      1.0|\n",
      "|1118461304|   0|    5.0|A17K8WANMYHTX2|    1399766400|Insightful & Very...|      1.0|\n",
      "|1118461304|   0|    5.0|A13IW3A6W43U0G|    1399593600|The necessity of ...|      1.0|\n",
      "|1118461304|   0|    5.0|A1ECEGG1MP7J8J|    1399420800|Great insight-Gre...|      1.0|\n",
      "|1118461304|   0|    5.0|A2D5X9G9S3A7RN|    1399161600|The Necessity of ...|      1.0|\n",
      "|1118461304|   0|    5.0| AP2F86JFRQ205|    1398988800|Review: The Neces...|      1.0|\n",
      "+----------+----+-------+--------------+--------------+--------------------+---------+\n",
      "only showing top 10 rows\n",
      "\n"
     ]
    }
   ],
   "source": [
    "review_df = review_df_fixed.union(review_df_eval)\n",
    "#review_df = review_df.orderBy(rand())\n",
    "review_df.show(10)"
   ]
  },
  {
   "cell_type": "code",
   "execution_count": 19,
   "id": "8cbb7a4e-696d-4183-8e1c-1d94bf203d47",
   "metadata": {
    "tags": []
   },
   "outputs": [
    {
     "name": "stdout",
     "output_type": "stream",
     "text": [
      "+----------+----+-------+--------------+--------------+--------------------+---------+\n",
      "|      asin|vote|overall|    reviewerID|unixReviewTime|                text|sentiment|\n",
      "+----------+----+-------+--------------+--------------+--------------------+---------+\n",
      "|1118461304| 3.0|    5.0|A3NHUQ33CFH3VM|    1385510400|Clear on what lea...|      1.0|\n",
      "|1118461304| 1.0|    5.0|A3SK6VNBQDNBJE|    1383264000|Becoming more inn...|      1.0|\n",
      "|1118461304| 1.0|    5.0|A3SOFHUR27FO3K|    1381363200|The World from Di...|      1.0|\n",
      "|1118461304| 1.0|    5.0|A1HOG1PYCAE157|    1381276800|Strangers are You...|      1.0|\n",
      "|1118461304|11.0|    5.0|A26JGAM6GZMM4V|    1378512000|How and why it is...|      1.0|\n",
      "|1118461304| 1.0|    5.0|A17K8WANMYHTX2|    1399766400|Insightful & Very...|      1.0|\n",
      "|1118461304| 1.0|    5.0|A13IW3A6W43U0G|    1399593600|The necessity of ...|      1.0|\n",
      "|1118461304| 1.0|    5.0|A1ECEGG1MP7J8J|    1399420800|Great insight-Gre...|      1.0|\n",
      "|1118461304| 1.0|    5.0|A2D5X9G9S3A7RN|    1399161600|The Necessity of ...|      1.0|\n",
      "|1118461304| 1.0|    5.0| AP2F86JFRQ205|    1398988800|Review: The Neces...|      1.0|\n",
      "|1118461304| 3.0|    4.0|A3VF3A5A3O04E1|    1397174400|Strangely Interes...|      1.0|\n",
      "|1118461304| 4.0|    5.0|A14DW5UMQ1M96O|    1395273600|The Power of Inno...|      1.0|\n",
      "|1118461304| 1.0|    4.0|A2V7UVKOFG57IW|    1393459200|Adored this book ...|      1.0|\n",
      "|1118461304| 1.0|    4.0|A2BM5NTLX7CES1|    1391040000|Why strangers mak...|      1.0|\n",
      "|1118461304| 1.0|    5.0|A1EQ5D5JRSW23K|    1390003200|we're all born a ...|      1.0|\n",
      "|1118461304| 1.0|    4.0|A1R2JUOGIYH6HO|    1389916800|insightful read T...|      1.0|\n",
      "|1118461304| 1.0|    5.0|A3JRW716H3AX14|    1389830400|Easy to read, cou...|      1.0|\n",
      "|1118461304| 1.0|    4.0|A3KGLXW3EYDTUH|    1389744000|Friends we have y...|      1.0|\n",
      "|1118461304| 3.0|    5.0|A2I5QME4S7CLFI|    1389139200|A New Twist on Ou...|      1.0|\n",
      "|1118461304| 3.0|    4.0|A33HIV8RXRDM88|    1388966400|First 20 pages wi...|      1.0|\n",
      "+----------+----+-------+--------------+--------------+--------------------+---------+\n",
      "only showing top 20 rows\n",
      "\n"
     ]
    }
   ],
   "source": [
    "review_df = review_df.withColumn('vote',col('vote')+1)\n",
    "review_df.show()"
   ]
  },
  {
   "cell_type": "markdown",
   "id": "01bfddfe-bdc7-46ee-a4b3-39a7d69022be",
   "metadata": {},
   "source": [
    "#### Now we have proper dataframe with sentiments marked.. \n",
    "#### 0 for negative. +1 for positive. \n",
    "#### We also have weights for the reviews.\n",
    "#### Using this, we can evaluate performance of products, bands, reviwers.\n",
    "#### We will further use this to build a recommendation system"
   ]
  },
  {
   "cell_type": "markdown",
   "id": "e4ee76f6-4b1f-4dce-a1cd-f36374e2d0c5",
   "metadata": {},
   "source": [
    "# Product portfolio"
   ]
  },
  {
   "cell_type": "markdown",
   "id": "18b0b4aa-ebfb-4c3f-bc3b-3d0febddcbdd",
   "metadata": {},
   "source": [
    "### Calculation of average rating, average sentiment called \"likeness\"\n",
    "### The weighted variants of the above - weighted_avg_rating and weighted_likeness\n",
    "### These are calculated by using votes (because people voted for the users' review)"
   ]
  },
  {
   "cell_type": "code",
   "execution_count": 20,
   "id": "4521f288-ed7f-4c6d-87c9-64dcd0448a30",
   "metadata": {
    "tags": []
   },
   "outputs": [
    {
     "name": "stdout",
     "output_type": "stream",
     "text": [
      "+----------+----+-------+--------------+--------------+---------+\n",
      "|      asin|vote|overall|    reviewerID|unixReviewTime|sentiment|\n",
      "+----------+----+-------+--------------+--------------+---------+\n",
      "|1118461304| 3.0|    5.0|A3NHUQ33CFH3VM|    1385510400|      1.0|\n",
      "|1118461304| 1.0|    5.0|A3SK6VNBQDNBJE|    1383264000|      1.0|\n",
      "|1118461304| 1.0|    5.0|A3SOFHUR27FO3K|    1381363200|      1.0|\n",
      "|1118461304| 1.0|    5.0|A1HOG1PYCAE157|    1381276800|      1.0|\n",
      "|1118461304|11.0|    5.0|A26JGAM6GZMM4V|    1378512000|      1.0|\n",
      "|1118461304| 1.0|    5.0|A17K8WANMYHTX2|    1399766400|      1.0|\n",
      "|1118461304| 1.0|    5.0|A13IW3A6W43U0G|    1399593600|      1.0|\n",
      "|1118461304| 1.0|    5.0|A1ECEGG1MP7J8J|    1399420800|      1.0|\n",
      "|1118461304| 1.0|    5.0|A2D5X9G9S3A7RN|    1399161600|      1.0|\n",
      "|1118461304| 1.0|    5.0| AP2F86JFRQ205|    1398988800|      1.0|\n",
      "|1118461304| 3.0|    4.0|A3VF3A5A3O04E1|    1397174400|      1.0|\n",
      "|1118461304| 4.0|    5.0|A14DW5UMQ1M96O|    1395273600|      1.0|\n",
      "|1118461304| 1.0|    4.0|A2V7UVKOFG57IW|    1393459200|      1.0|\n",
      "|1118461304| 1.0|    4.0|A2BM5NTLX7CES1|    1391040000|      1.0|\n",
      "|1118461304| 1.0|    5.0|A1EQ5D5JRSW23K|    1390003200|      1.0|\n",
      "|1118461304| 1.0|    4.0|A1R2JUOGIYH6HO|    1389916800|      1.0|\n",
      "|1118461304| 1.0|    5.0|A3JRW716H3AX14|    1389830400|      1.0|\n",
      "|1118461304| 1.0|    4.0|A3KGLXW3EYDTUH|    1389744000|      1.0|\n",
      "|1118461304| 3.0|    5.0|A2I5QME4S7CLFI|    1389139200|      1.0|\n",
      "|1118461304| 3.0|    4.0|A33HIV8RXRDM88|    1388966400|      1.0|\n",
      "+----------+----+-------+--------------+--------------+---------+\n",
      "only showing top 20 rows\n",
      "\n"
     ]
    }
   ],
   "source": [
    "review_df=review_df.drop('text')\n",
    "review_df.show()\n",
    "#review_df.write.json('reviews_small.json')"
   ]
  },
  {
   "cell_type": "code",
   "execution_count": 21,
   "id": "8975b051-8227-4c5a-82df-98257f92a63c",
   "metadata": {
    "tags": []
   },
   "outputs": [
    {
     "name": "stdout",
     "output_type": "stream",
     "text": [
      "+----------+------------------+-------------+-------------------+-----------+-----------------+-----------------+\n",
      "|      asin|        avg_rating|total_reviews|weighted_avg_rating|total_votes|         likeness|weighted_likeness|\n",
      "+----------+------------------+-------------+-------------------+-----------+-----------------+-----------------+\n",
      "|B000M5GXB8| 4.642857142857143|           14|  4.666666666666667|       21.0|            100.0|            100.0|\n",
      "|B001E0N3T0| 4.291666666666667|           24|                4.1|       30.0|83.33333333333334|73.33333333333333|\n",
      "|B002JPNEM0| 4.076923076923077|           65|  4.017341040462428|      173.0|78.46153846153847|73.98843930635837|\n",
      "|B002YG3Q4K|2.5384615384615383|           13|            2.96875|       64.0|38.46153846153847|          48.4375|\n",
      "|B004XLEDYG| 4.720588235294118|          136|  4.624203821656051|      157.0|93.38235294117648|90.44585987261146|\n",
      "|B0053F8VBM|              4.55|           20|               4.55|       20.0|             95.0|             95.0|\n",
      "|B0053F7VC2| 4.659259259259259|          135|  4.669064748201439|      139.0|93.33333333333333| 93.5251798561151|\n",
      "|B0053Y3B72| 4.518518518518518|           27|  4.518518518518518|       27.0|88.88888888888889|88.88888888888889|\n",
      "|B00545AZRY| 4.043478260869565|           46|  4.036363636363636|       55.0|80.43478260869566|83.63636363636363|\n",
      "|B005BA3ULU| 4.714285714285714|           21|  4.714285714285714|       21.0|95.23809523809523|95.23809523809523|\n",
      "|B005BA3YU2| 4.818181818181818|           11|  4.818181818181818|       11.0|            100.0|            100.0|\n",
      "|B005BNN3OQ| 4.709677419354839|           31|  4.742857142857143|       35.0|93.54838709677419|94.28571428571428|\n",
      "|B005VE8JEY| 4.181818181818182|           33|  4.204545454545454|       44.0|78.78787878787878|79.54545454545455|\n",
      "|B0076OWE8E| 4.121212121212121|          165| 4.0054945054945055|      182.0|80.60606060606061|77.47252747252747|\n",
      "|B007HL8WIM| 4.647058823529412|           17|  4.560975609756097|      287.0|94.11764705882352|96.16724738675958|\n",
      "|B00AYBLIPG| 4.829787234042553|           47|  4.513888888888889|       72.0|95.74468085106383|             87.5|\n",
      "|B00C4TJIQM|            4.6875|           16|  4.814814814814815|       27.0|            93.75|96.29629629629629|\n",
      "|B00E0CWGNS| 4.338461538461538|           65|  4.358208955223881|       67.0|86.15384615384616|86.56716417910447|\n",
      "|B00E0CW9MG|4.8533333333333335|           75|  4.860215053763441|       93.0|97.33333333333334|97.84946236559139|\n",
      "|B00EO7OZGK| 4.695652173913044|           23|  4.730769230769231|       26.0|95.65217391304348|96.15384615384616|\n",
      "+----------+------------------+-------------+-------------------+-----------+-----------------+-----------------+\n",
      "only showing top 20 rows\n",
      "\n"
     ]
    }
   ],
   "source": [
    "avg_ratings_df = review_df.groupBy(\"asin\").agg(\n",
    "    F.avg(\"overall\").alias(\"avg_rating\"),\n",
    "     F.count(\"overall\").alias(\"total_reviews\"),\n",
    "     (F.sum(F.col(\"overall\") * F.col(\"vote\")) / F.sum(\"vote\")).alias(\"weighted_avg_rating\"),\n",
    "    F.sum(\"vote\").alias(\"total_votes\"),\n",
    "    (F.avg(\"sentiment\")*100).alias(\"likeness\"),\n",
    "    ((F.sum(F.col(\"sentiment\")*F.col(\"vote\"))/F.sum(\"vote\"))*100).alias(\"weighted_likeness\")\n",
    ")\n",
    "avg_ratings_df.show()"
   ]
  },
  {
   "cell_type": "markdown",
   "id": "28d90413-f44b-4476-ba99-0c60f3116a9d",
   "metadata": {},
   "source": [
    "## Rating distribution per product"
   ]
  },
  {
   "cell_type": "code",
   "execution_count": 22,
   "id": "ef067fce-9e71-4803-9353-dde9f03e8885",
   "metadata": {
    "tags": []
   },
   "outputs": [
    {
     "name": "stdout",
     "output_type": "stream",
     "text": [
      "+----------+-----------------------------------------------------------+\n",
      "|asin      |overall_counts                                             |\n",
      "+----------+-----------------------------------------------------------+\n",
      "|B00EO7OZGK|{1.0 -> 1, 2.0 -> NULL, 3.0 -> NULL, 4.0 -> 3, 5.0 -> 19}  |\n",
      "|B001E0N3T0|{1.0 -> 1, 2.0 -> 1, 3.0 -> 3, 4.0 -> 4, 5.0 -> 15}        |\n",
      "|B0076OWE8E|{1.0 -> 24, 2.0 -> 4, 3.0 -> 5, 4.0 -> 27, 5.0 -> 105}     |\n",
      "|B00HNEJ0W0|{1.0 -> 2, 2.0 -> NULL, 3.0 -> NULL, 4.0 -> 2, 5.0 -> 13}  |\n",
      "|B002YG3Q4K|{1.0 -> 7, 2.0 -> 1, 3.0 -> NULL, 4.0 -> 1, 5.0 -> 4}      |\n",
      "|B00AYBLIPG|{1.0 -> NULL, 2.0 -> 1, 3.0 -> 1, 4.0 -> 3, 5.0 -> 42}     |\n",
      "|B005BA3YU2|{1.0 -> NULL, 2.0 -> NULL, 3.0 -> NULL, 4.0 -> 2, 5.0 -> 9}|\n",
      "|B0053F7VC2|{1.0 -> 3, 2.0 -> 1, 3.0 -> 8, 4.0 -> 15, 5.0 -> 108}      |\n",
      "|B00C4TJIQM|{1.0 -> NULL, 2.0 -> NULL, 3.0 -> 1, 4.0 -> 3, 5.0 -> 12}  |\n",
      "|B002JPNEM0|{1.0 -> 6, 2.0 -> 5, 3.0 -> 5, 4.0 -> 11, 5.0 -> 38}       |\n",
      "+----------+-----------------------------------------------------------+\n",
      "only showing top 10 rows\n",
      "\n"
     ]
    }
   ],
   "source": [
    "distinct_count_df = review_df.groupBy(\"asin\",\"overall\").agg(\n",
    "    F.count(\"overall\").alias(\"distinct_count\")\n",
    ")\n",
    "\n",
    "pivot_df = distinct_count_df.groupBy(\"asin\").pivot(\"overall\").agg(F.first(\"distinct_count\"))\n",
    "\n",
    "result_df = pivot_df.withColumn(\"overall_counts\", F.expr(\"map(\" + \", \".join([f'\"{col}\", `{col}`' for col in pivot_df.columns[1:]]) + \")\"))\n",
    "\n",
    "result_df = result_df.select('asin','overall_counts')\n",
    "\n",
    "result_df.show(10,truncate=False)"
   ]
  },
  {
   "cell_type": "markdown",
   "id": "423f3525-cbbf-4607-b9e4-3c75bc53fb30",
   "metadata": {},
   "source": [
    "### Rating evolution over time"
   ]
  },
  {
   "cell_type": "code",
   "execution_count": 23,
   "id": "622d9ca4-521f-48b4-b8d6-9437d52867be",
   "metadata": {
    "tags": []
   },
   "outputs": [
    {
     "name": "stdout",
     "output_type": "stream",
     "text": [
      "+----------+-------------------+-------+-----------------+\n",
      "|asin      |reviewTimestamp    |overall|cumulative_avg   |\n",
      "+----------+-------------------+-------+-----------------+\n",
      "|1118461304|2013-09-07 05:30:00|5.0    |5.0              |\n",
      "|1118461304|2013-10-09 05:30:00|5.0    |5.0              |\n",
      "|1118461304|2013-10-10 05:30:00|5.0    |5.0              |\n",
      "|1118461304|2013-11-01 05:30:00|5.0    |5.0              |\n",
      "|1118461304|2013-11-27 05:30:00|5.0    |5.0              |\n",
      "|1118461304|2013-11-27 05:30:00|5.0    |5.0              |\n",
      "|1118461304|2013-12-04 05:30:00|5.0    |5.0              |\n",
      "|1118461304|2013-12-05 05:30:00|3.0    |4.75             |\n",
      "|1118461304|2013-12-07 05:30:00|5.0    |4.8              |\n",
      "|1118461304|2013-12-07 05:30:00|5.0    |4.8              |\n",
      "|1118461304|2013-12-10 05:30:00|5.0    |4.818181818181818|\n",
      "|1118461304|2013-12-14 05:30:00|4.0    |4.75             |\n",
      "|1118461304|2013-12-18 05:30:00|5.0    |4.769230769230769|\n",
      "|1118461304|2013-12-24 05:30:00|5.0    |4.785714285714286|\n",
      "|1118461304|2013-12-27 05:30:00|3.0    |4.666666666666667|\n",
      "|1118461304|2013-12-29 05:30:00|4.0    |4.647058823529412|\n",
      "|1118461304|2013-12-29 05:30:00|5.0    |4.647058823529412|\n",
      "|1118461304|2013-12-30 05:30:00|4.0    |4.611111111111111|\n",
      "|1118461304|2014-01-06 05:30:00|4.0    |4.6              |\n",
      "|1118461304|2014-01-06 05:30:00|5.0    |4.6              |\n",
      "+----------+-------------------+-------+-----------------+\n",
      "only showing top 20 rows\n",
      "\n"
     ]
    }
   ],
   "source": [
    "# Convert unixReviewTime to timestamp\n",
    "df = review_df.withColumn(\"reviewTimestamp\", F.from_unixtime(\"unixReviewTime\"))\n",
    "\n",
    "# Define a window specification by productId and order by reviewTimestamp\n",
    "windowSpec = Window().partitionBy(\"asin\").orderBy(\"reviewTimestamp\")\n",
    "\n",
    "# Calculate cumulative sum and count\n",
    "df = df.withColumn(\"cumulative_sum\", F.sum(\"overall\").over(windowSpec))\n",
    "df = df.withColumn(\"cumulative_count\", F.count(\"overall\").over(windowSpec))\n",
    "df = df.withColumn(\"cumulative_avg\", F.col(\"cumulative_sum\") / F.col(\"cumulative_count\"))\n",
    "\n",
    "# Show the result\n",
    "df.select(\"asin\", \"reviewTimestamp\", \"overall\", \"cumulative_avg\").orderBy(\"asin\", \"reviewTimestamp\").show(truncate=False)\n"
   ]
  },
  {
   "cell_type": "code",
   "execution_count": 24,
   "id": "d91985a6-111f-44f5-93a5-acf618454d98",
   "metadata": {
    "tags": []
   },
   "outputs": [
    {
     "name": "stdin",
     "output_type": "stream",
     "text": [
      " 1118461304\n"
     ]
    }
   ],
   "source": [
    "productid = input()\n",
    "plot_val = df.filter(col('asin')==productid).select(\"reviewTimeStamp\",\"cumulative_avg\").orderBy(\"reviewTimeStamp\").collect()"
   ]
  },
  {
   "cell_type": "code",
   "execution_count": 25,
   "id": "4f8ed294-b1a8-450b-8cf7-008538bfca56",
   "metadata": {
    "tags": []
   },
   "outputs": [
    {
     "data": {
      "image/png": "[encoded data removed]",
      "text/plain": [
       "<Figure size 640x480 with 1 Axes>"
      ]
     },
     "metadata": {},
     "output_type": "display_data"
    }
   ],
   "source": [
    "# Extract x and y values\n",
    "x_values = [row.reviewTimeStamp for row in plot_val]\n",
    "y_values = [row.cumulative_avg for row in plot_val]\n",
    "\n",
    "# Plot the data as a line graph\n",
    "plt.plot(x_values, y_values, marker='o', linestyle='-', color='b')\n",
    "plt.xlabel(\"time\")\n",
    "plt.ylabel(\"Average rating\")\n",
    "plt.title(\"Average rating graph\")\n",
    "plt.xticks([])\n",
    "#plt.grid(True)\n",
    "plt.show()"
   ]
  },
  {
   "cell_type": "markdown",
   "id": "3843ed8f-eb16-48b3-8eec-6315b930328e",
   "metadata": {},
   "source": [
    "### Ranking logic for product category (For quality rank and popular rank)"
   ]
  },
  {
   "cell_type": "code",
   "execution_count": 26,
   "id": "1df27290-0189-4745-b243-894431b029f8",
   "metadata": {
    "tags": []
   },
   "outputs": [
    {
     "data": {
      "text/plain": [
       "[Row(main_cat='Computers'),\n",
       " Row(main_cat='All Electronics'),\n",
       " Row(main_cat='Home Audio & Theater'),\n",
       " Row(main_cat='Pet Supplies'),\n",
       " Row(main_cat='Toys & Games'),\n",
       " Row(main_cat='Baby'),\n",
       " Row(main_cat='Sports & Outdoors'),\n",
       " Row(main_cat='Grocery'),\n",
       " Row(main_cat='Automotive'),\n",
       " Row(main_cat='Books'),\n",
       " Row(main_cat='Amazon Home'),\n",
       " Row(main_cat='Industrial & Scientific'),\n",
       " Row(main_cat='Health & Personal Care'),\n",
       " Row(main_cat='Cell Phones & Accessories'),\n",
       " Row(main_cat='Arts, Crafts & Sewing'),\n",
       " Row(main_cat='Tools & Home Improvement'),\n",
       " Row(main_cat='All Beauty'),\n",
       " Row(main_cat='Office Products'),\n",
       " Row(main_cat='Appliances'),\n",
       " Row(main_cat='Camera & Photo'),\n",
       " Row(main_cat='Musical Instruments'),\n",
       " Row(main_cat='AMAZON FASHION'),\n",
       " Row(main_cat='NA_CATEGORY')]"
      ]
     },
     "execution_count": 26,
     "metadata": {},
     "output_type": "execute_result"
    }
   ],
   "source": [
    "combined_df = review_df.join(metadata_df_2.select(\"brand\",\"main_cat\",\"asin\",\"title\"), \"asin\")\n",
    "combined_df.select('main_cat').distinct().collect()"
   ]
  },
  {
   "cell_type": "code",
   "execution_count": 39,
   "id": "e020338a-7a81-4e1b-801e-6233c25b0b8a",
   "metadata": {
    "tags": []
   },
   "outputs": [],
   "source": [
    "combined_main_df = avg_ratings_df.join(combined_df.select(\"brand\",\"main_cat\",\"asin\",\"title\"),\"asin\",\"inner\").dropDuplicates().na.drop()\n",
    "#combined_main_df.show()"
   ]
  },
  {
   "cell_type": "code",
   "execution_count": 41,
   "id": "8d973b50-9de3-4f8d-8363-7829cf6327ba",
   "metadata": {
    "tags": []
   },
   "outputs": [],
   "source": [
    "combined_main_df = combined_main_df.withColumn('rating_sum',F.col('total_reviews')*F.col('weighted_avg_rating'))\n",
    "#combined_main_df.show()\n",
    "# Create a WindowSpec for ranking based on the \"value\" column within each group\n",
    "window_spec = Window.partitionBy(\"main_cat\").orderBy(F.col(\"rating_sum\").desc())\n",
    "\n",
    "combined_main_df = combined_main_df.withColumn(\"popular_rank\",F.rank().over(window_spec))\n",
    "combined_main_df = combined_main_df.dropDuplicates()"
   ]
  },
  {
   "cell_type": "code",
   "execution_count": 42,
   "id": "5516a635-ddfa-4893-99cd-57b4e263a0ac",
   "metadata": {
    "tags": []
   },
   "outputs": [],
   "source": [
    "# Create a WindowSpec for ranking based on the \"value\" column within each group\n",
    "window_spec = Window.partitionBy(\"main_cat\").orderBy(F.col(\"total_reviews\").asc())\n",
    "\n",
    "# Add a new column \"rank\" based on the \"value\" column within each group\n",
    "combined_main_df = combined_main_df.withColumn(\"buy_rank\", F.rank().over(window_spec))\n",
    "\n",
    "combained_main_df = combined_main_df.dropDuplicates()\n",
    "\n",
    "#combained_main_df.show()"
   ]
  },
  {
   "cell_type": "code",
   "execution_count": 43,
   "id": "bd8f2a03-b64b-4587-9db1-2828a8305ba5",
   "metadata": {
    "tags": []
   },
   "outputs": [],
   "source": [
    "# Create a WindowSpec for ranking based on the \"value\" column within each group\n",
    "window_spec = Window.partitionBy(\"main_cat\").orderBy(F.col(\"weighted_avg_rating\").asc())\n",
    "\n",
    "# Add a new column \"rank\" based on the \"value\" column within each group\n",
    "combined_main_df = combined_main_df.withColumn(\"rating_rank\", F.rank().over(window_spec))\n",
    "\n",
    "combined_main_df = combined_main_df.dropDuplicates()\n",
    "\n",
    "#combined_main_df.select('asin','main_cat','buy_rank','rating_rank').show()"
   ]
  },
  {
   "cell_type": "code",
   "execution_count": 44,
   "id": "6db263bc-dd7e-4bd2-8f94-ac59aae4572e",
   "metadata": {
    "tags": []
   },
   "outputs": [
    {
     "name": "stdout",
     "output_type": "stream",
     "text": [
      "+----------+--------------+------------------+--------+------------+\n",
      "|asin      |main_cat      |overall_score     |cat_rank|popular_rank|\n",
      "+----------+--------------+------------------+--------+------------+\n",
      "|B008ZVLX48|AMAZON FASHION|4.1               |1       |1           |\n",
      "|B009VBI88A|AMAZON FASHION|3.8               |2       |3           |\n",
      "|B00FNJD2Y4|AMAZON FASHION|3.6999999999999997|3       |2           |\n",
      "|B00GWY4EMS|AMAZON FASHION|3.3               |4       |4           |\n",
      "|B00915W2P6|AMAZON FASHION|1.9               |5       |5           |\n",
      "|B0144B8PSY|AMAZON FASHION|1.9               |5       |5           |\n",
      "|B00AUNNAVS|All Beauty    |24.099999999999998|1       |2           |\n",
      "|B01D3R68VQ|All Beauty    |21.799999999999997|2       |1           |\n",
      "|B015AQ7INA|All Beauty    |21.5              |3       |4           |\n",
      "|B00DNCJNFA|All Beauty    |21.099999999999998|4       |8           |\n",
      "|B0009H79PI|All Beauty    |21.0              |5       |3           |\n",
      "|B00LZ76BNW|All Beauty    |20.099999999999998|6       |9           |\n",
      "|B01DDYKV9Y|All Beauty    |19.999999999999996|7       |7           |\n",
      "|B00DRICXV6|All Beauty    |19.3              |8       |5           |\n",
      "|B00DIHO0MQ|All Beauty    |19.1              |9       |10          |\n",
      "|B0006OQCU2|All Beauty    |17.699999999999996|10      |6           |\n",
      "|B00DRI9EZY|All Beauty    |16.9              |11      |11          |\n",
      "|B004Q3XXP6|All Beauty    |16.5              |12      |12          |\n",
      "|B0181XQSLW|All Beauty    |15.3              |13      |13          |\n",
      "|B00MH3LOEO|All Beauty    |13.0              |14      |15          |\n",
      "+----------+--------------+------------------+--------+------------+\n",
      "only showing top 20 rows\n",
      "\n"
     ]
    }
   ],
   "source": [
    "combined_main_df = combined_main_df.withColumn('overall_score',F.col('buy_rank')*0.7+F.col('rating_rank')*0.3)\n",
    "\n",
    "\n",
    "# Create a WindowSpec for ranking based on the \"value\" column within each group\n",
    "window_spec = Window.partitionBy(\"main_cat\").orderBy(F.col(\"overall_score\").desc())\n",
    "\n",
    "# Add a new column \"rank\" based on the \"value\" column within each group\n",
    "combined_main_df = combined_main_df.withColumn(\"cat_rank\", F.rank().over(window_spec))\n",
    "\n",
    "combined_main_df = combined_main_df.dropDuplicates().na.drop(subset=['brand'])\n",
    "\n",
    "combined_main_df.select('asin','main_cat','overall_score','cat_rank','popular_rank').show(truncate=False)"
   ]
  },
  {
   "cell_type": "markdown",
   "id": "79a6e672-6678-466e-9ede-de36a9624e19",
   "metadata": {},
   "source": [
    "## Brand, category analysis"
   ]
  },
  {
   "cell_type": "code",
   "execution_count": 45,
   "id": "0eb06a74-06a2-405a-b4db-fe04dd4f56ad",
   "metadata": {
    "tags": []
   },
   "outputs": [],
   "source": [
    "brand_df = combined_df.drop('asin')\n",
    "avg_ratings_df_with_brands = brand_df.groupBy(\"brand\").agg(\n",
    "    F.avg(\"overall\").alias(\"avg_rating\"),\n",
    "    F.count(\"overall\").alias(\"total_reviews\"),\n",
    "     (F.sum(F.col(\"overall\") * F.col(\"vote\")) / F.sum(\"vote\")).alias(\"weighted_avg_rating\"),\n",
    "    F.sum(\"vote\").alias(\"total_votes\"),\n",
    "    (F.avg(\"sentiment\")*100).alias(\"likeness\"),\n",
    "    ((F.sum(F.col(\"sentiment\")*F.col(\"vote\"))/F.sum(\"vote\"))*100).alias(\"weighted_likeness\")\n",
    ")\n",
    "avg_ratings_df_with_brands = avg_ratings_df_with_brands.join(combined_df.select(\"brand\",\"main_cat\"),\"brand\")"
   ]
  },
  {
   "cell_type": "code",
   "execution_count": 46,
   "id": "461bd68d-8d8a-42e5-9c18-4f9c1c3e595d",
   "metadata": {
    "tags": []
   },
   "outputs": [],
   "source": [
    "\n",
    "avg_ratings_df_with_brands = avg_ratings_df_with_brands.withColumn('rating_sum',F.col('total_reviews')*F.col('weighted_avg_rating'))\n",
    "\n",
    "# Create a WindowSpec for ranking based on the \"value\" column within each group\n",
    "window_spec = Window.partitionBy(\"main_cat\").orderBy(F.col(\"rating_sum\").desc())\n",
    "\n",
    "avg_ratings_df_with_brands = avg_ratings_df_with_brands.withColumn(\"popular_rank\",F.rank().over(window_spec))\n",
    "avg_ratings_df_with_brands = avg_ratings_df_with_brands.dropDuplicates()\n",
    "#avg_ratings_df_with_brands.select('brand','main_cat','rating_sum','popular_rank').show()"
   ]
  },
  {
   "cell_type": "code",
   "execution_count": 47,
   "id": "32cd3f33-f87b-4cc9-a7db-862a679dbcf1",
   "metadata": {
    "tags": []
   },
   "outputs": [],
   "source": [
    "# Create a WindowSpec for ranking based on the \"value\" column within each group\n",
    "window_spec = Window.partitionBy(\"main_cat\").orderBy(F.col(\"total_reviews\").asc())\n",
    "\n",
    "# Add a new column \"rank\" based on the \"value\" column within each group\n",
    "avg_ratings_df_with_brands = avg_ratings_df_with_brands.withColumn(\"buy_rank\", F.rank().over(window_spec))\n",
    "\n",
    "avg_ratings_df_with_brands = avg_ratings_df_with_brands.dropDuplicates()\n",
    "\n",
    "#avg_ratings_df_with_brands.show()"
   ]
  },
  {
   "cell_type": "code",
   "execution_count": 48,
   "id": "f92fa55d-2296-418a-85be-cc6cc517b17a",
   "metadata": {
    "tags": []
   },
   "outputs": [],
   "source": [
    "# Create a WindowSpec for ranking based on the \"value\" column within each group\n",
    "window_spec = Window.partitionBy(\"main_cat\").orderBy(F.col(\"weighted_avg_rating\").asc())\n",
    "\n",
    "# Add a new column \"rank\" based on the \"value\" column within each group\n",
    "avg_ratings_df_with_brands = avg_ratings_df_with_brands.withColumn(\"rating_rank\", F.rank().over(window_spec))\n",
    "\n",
    "avg_ratings_df_with_brands = avg_ratings_df_with_brands.dropDuplicates()\n",
    "\n",
    "#avg_ratings_df_with_brands.select('brand','main_cat','buy_rank','rating_rank').show()"
   ]
  },
  {
   "cell_type": "code",
   "execution_count": 49,
   "id": "95e28849-9129-42f6-b7e1-9533e16823c7",
   "metadata": {
    "tags": []
   },
   "outputs": [
    {
     "name": "stdout",
     "output_type": "stream",
     "text": [
      "+---------------------------+--------------+--------+------------+\n",
      "|brand                      |main_cat      |cat_rank|popular_rank|\n",
      "+---------------------------+--------------+--------+------------+\n",
      "|NA_BRAND                   |AMAZON FASHION|1       |1           |\n",
      "|XO                         |AMAZON FASHION|2       |24          |\n",
      "|Love+Grace                 |AMAZON FASHION|3       |37          |\n",
      "|Ownshop                    |AMAZON FASHION|4       |25          |\n",
      "|Whirlpool                  |All Beauty    |1       |1           |\n",
      "|Supco                      |All Beauty    |2       |9           |\n",
      "|ERP                        |All Beauty    |3       |31          |\n",
      "|GE                         |All Beauty    |4       |8           |\n",
      "|Kenmore                    |All Beauty    |5       |52          |\n",
      "|BestAir                    |All Beauty    |6       |54          |\n",
      "|HFM                        |All Beauty    |7       |447         |\n",
      "|NA_BRAND                   |All Beauty    |8       |72          |\n",
      "|Essick Air                 |All Beauty    |8       |80          |\n",
      "|Subzero                    |All Beauty    |10      |385         |\n",
      "|Amana                      |All Beauty    |11      |76          |\n",
      "|Aftmk Rplcm for # Whirlpool|All Beauty    |12      |451         |\n",
      "|Embraco                    |All Beauty    |13      |448         |\n",
      "|Maytag                     |All Beauty    |14      |74          |\n",
      "|Taylor Precision Products  |All Beauty    |15      |455         |\n",
      "|Filters Now                |All Beauty    |16      |408         |\n",
      "+---------------------------+--------------+--------+------------+\n",
      "only showing top 20 rows\n",
      "\n"
     ]
    }
   ],
   "source": [
    "avg_ratings_df_with_brands = avg_ratings_df_with_brands.withColumn('overall_score',F.col('buy_rank')*0.7+F.col('rating_rank')*0.3)\n",
    "\n",
    "\n",
    "# Create a WindowSpec for ranking based on the \"value\" column within each group\n",
    "window_spec = Window.partitionBy(\"main_cat\").orderBy(F.col(\"overall_score\").desc())\n",
    "\n",
    "# Add a new column \"rank\" based on the \"value\" column within each group\n",
    "avg_ratings_df_with_brands = avg_ratings_df_with_brands.withColumn(\"cat_rank\", F.rank().over(window_spec))\n",
    "\n",
    "avg_ratings_df_with_brands = avg_ratings_df_with_brands.dropDuplicates().na.drop(subset=['main_cat','brand'])\n",
    "\n",
    "avg_ratings_df_with_brands.select('brand','main_cat','cat_rank','popular_rank').show(truncate=False)"
   ]
  },
  {
   "cell_type": "markdown",
   "id": "6e4b28cb-5166-48c5-a041-9733bc6d41c9",
   "metadata": {},
   "source": [
    "## Inference Cell - Given a product we will present the following - showing title, brand name, category name.\n",
    "### 1. Average rating.\n",
    "### 2. Average sentiment (Likeness)\n",
    "### 3. Weighted average rating (Calculated on the basis of votes)\n",
    "### 4. Weighted average sentiment (Calculated on the basis of votes)\n",
    "### 5. Rating distribution\n",
    "### 6. Rating progression of a product over time as a plot.\n",
    "### 7. Rank for the product in the main_category\n",
    "### 8. Brand info"
   ]
  },
  {
   "cell_type": "code",
   "execution_count": 51,
   "id": "89341c25-0aed-4b31-8e89-80d404a42adb",
   "metadata": {
    "tags": []
   },
   "outputs": [
    {
     "name": "stdin",
     "output_type": "stream",
     "text": [
      "For inference please enter a product id B000VL060M\n"
     ]
    },
    {
     "name": "stdout",
     "output_type": "stream",
     "text": [
      "PRODUCT INFO:\n",
      "Title of the product Broan S97007696 Filter\n",
      "Avergae rating of product 4.364098837209302\n",
      "Weight average of the product 3.987696850393701\n",
      "% of people liking the product 87.28197674418605\n",
      "% of people liking the product (adjusted by votes) 76.42716535433071\n",
      "Rank of the product by popularity 6 in Amazon Home\n",
      "Rank of the product by quality 100 in Amazon Home\n",
      "Rating distribution for the product {'1.0': 92, '2.0': 40, '3.0': 80, '4.0': 227, '5.0': 937}\n"
     ]
    },
    {
     "data": {
      "image/png": "[encoded data removed]",
      "text/plain": [
       "<Figure size 640x480 with 1 Axes>"
      ]
     },
     "metadata": {},
     "output_type": "display_data"
    },
    {
     "name": "stdout",
     "output_type": "stream",
     "text": [
      "BRAND INFO:\n",
      "Brand name is Broan\n",
      "Average rating of brand 4.35153801880156\n",
      "Weight average of the brand 4.169424360400445\n",
      "% of people liking the brand 87.68945449894481\n",
      "% of people liking the brand (adjusted by votes) 83.10275305895439\n",
      "Rank of the brand by popularity 2592 in Amazon Home\n",
      "Rank of the brand by quality 10 in Amazon Home\n"
     ]
    }
   ],
   "source": [
    "productId = input(\"For inference please enter a product id\")\n",
    "\n",
    "###combained_main_df contains 1, 2, 3, 4, and 6\n",
    "result_1 = combined_main_df.filter(col('asin')==productId)\n",
    "result_1_ex = result_1.first()\n",
    "plot_val = df.filter(col('asin')==productId).select(\"reviewTimeStamp\",\"cumulative_avg\").orderBy(\"reviewTimeStamp\").collect()\n",
    "result2 = result_df.filter(col('asin')==productId)\n",
    "result3 = avg_ratings_df_with_brands.filter((col('brand')==result_1_ex[7]) & (col('main_cat')==result_1_ex[8]))\n",
    "\n",
    "result_2_ex = result2.first()\n",
    "result_3_ex = result3.first()\n",
    "\n",
    "# Extract x and y values\n",
    "x_values = [row.reviewTimeStamp for row in plot_val]\n",
    "y_values = [row.cumulative_avg for row in plot_val]\n",
    "\n",
    "# Plot the data as a line graph\n",
    "\n",
    "print(\"PRODUCT INFO:\")\n",
    "print(f\"Title of the product {result_1_ex[9]}\")\n",
    "print(f\"Avergae rating of product {result_1_ex[1]}\")\n",
    "print(f\"Weight average of the product {result_1_ex[3]}\")\n",
    "print(f\"% of people liking the product {result_1_ex[5]}\")\n",
    "print(f\"% of people liking the product (adjusted by votes) {result_1_ex[6]}\")\n",
    "print(f\"Rank of the product by popularity {result_1_ex[11]} in {result_1_ex[8]}\")\n",
    "print(f\"Rank of the product by quality {result_1_ex[15]} in {result_1_ex[8]}\")\n",
    "\n",
    "print(f\"Rating distribution for the product {result_2_ex[1]}\")\n",
    "\n",
    "plt.plot(x_values, y_values, marker='o', linestyle='-', color='b')\n",
    "plt.xlabel(\"time\")\n",
    "plt.ylabel(\"Average rating\")\n",
    "plt.title(\"Average rating graph\")\n",
    "plt.xticks([])\n",
    "#plt.grid(True)\n",
    "plt.show()\n",
    "\n",
    "print(\"BRAND INFO:\")\n",
    "print(f\"Brand name is {result_3_ex[0]}\")\n",
    "print(f\"Average rating of brand {result_3_ex[1]}\")\n",
    "print(f\"Weight average of the brand {result_3_ex[3]}\")\n",
    "print(f\"% of people liking the brand {result_3_ex[5]}\")\n",
    "print(f\"% of people liking the brand (adjusted by votes) {result_3_ex[6]}\")\n",
    "print(f\"Rank of the brand by popularity {result_3_ex[9]} in {result_3_ex[7]}\")\n",
    "print(f\"Rank of the brand by quality {result_3_ex[13]} in {result_3_ex[7]}\")"
   ]
  },
  {
   "cell_type": "markdown",
   "id": "52c77450-d88e-4070-9e6c-cf25695b24ab",
   "metadata": {},
   "source": [
    "## Recommendation system code starts We will use ALS algorithm for collaborative filtering"
   ]
  },
  {
   "cell_type": "markdown",
   "id": "26d433f4-122d-4f3c-87d4-8937927132e7",
   "metadata": {},
   "source": [
    "## What is collaborative filtering?\n",
    "Collaborative filtering is a technique used in recommendation systems to predict a user's preferences or interests by leveraging the preferences or behaviors of other users. How do we achieve this? Using reviews of products by ofcourse.\n",
    "\n",
    "### User-Based Collaborative Filtering:\n",
    "\n",
    "Idea: Recommends items based on the preferences of users who are similar to the target user.\n",
    "Process: Identify users with similar preferences to the target user. Recommend items that those similar users liked but that the target user has not purchased YET. (See this is incomplete here, because we don't have the entire transaction data).\n",
    "\n",
    "### Item-Based Collaborative Filtering:\n",
    "\n",
    "Idea: Recommends items that are similar to items the target user has liked or interacted with in the past.\n",
    "Process: Identify items that are similar to those the target user has already liked or interacted with. Recommend these similar items to the target user."
   ]
  },
  {
   "cell_type": "code",
   "execution_count": 161,
   "id": "fc5a9117-7b5f-4938-aa92-dd1d69fc6bab",
   "metadata": {
    "tags": []
   },
   "outputs": [],
   "source": [
    "rec_rev_df = review_df.groupBy('reviewerID').agg(collect_list('asin').alias('bought_products'))"
   ]
  },
  {
   "cell_type": "code",
   "execution_count": 162,
   "id": "03d619a2-4a28-40f0-9fca-1b476aff5708",
   "metadata": {
    "tags": []
   },
   "outputs": [
    {
     "name": "stdout",
     "output_type": "stream",
     "text": [
      "+--------------------+--------------------+\n",
      "|          reviewerID|     bought_products|\n",
      "+--------------------+--------------------+\n",
      "|A0001528BGUBOEVR6T5U|        [B00MVVITWC]|\n",
      "|A00032921HLX2KJJVXRS|        [B0045LLC7K]|\n",
      "|A001170867ZBE9FORRQL|        [B009HQGFX4]|\n",
      "|A0064174TU5Q70UXX2M9|        [B01CKFSCOS]|\n",
      "|A0096681Y127OL1H8W3U|[B0014CN8Y8, B001...|\n",
      "|A0103047AS0C8QKUI0X2|        [B009PCI2JU]|\n",
      "|A0122375SQ8Z42DUL03J|        [B001TH7H04]|\n",
      "|A0123039S3EWL909O8SC|        [B01CA34OZG]|\n",
      "|A0129433AZJVRKW94GP5|        [B00FEZNXRI]|\n",
      "|A01486289FT2I09IRQ7C|        [B00QXYDZZE]|\n",
      "|A01704365WXWXHQIZMHJ|[B009CETUN8, B00H...|\n",
      "|A0172070TE3H35IHBV14|        [B00DT5746Q]|\n",
      "|A0172676AYM41Z1T4K0V|        [B000FH6GB0]|\n",
      "|A017868617BH3ZDM3WFJ|        [B011J74OTA]|\n",
      "|A0197045D9X4GCE129IL|        [B01D151EFA]|\n",
      "|A0220159ZRNBTRKLG08H|        [B00MU2WHFM]|\n",
      "|A02429137JUJG115O90L|        [B00EN8NV60]|\n",
      "|A0248167KKWYJWT5OHOM|        [B006WONMRQ]|\n",
      "|A0255765B0FOF6603EJP|        [B00DZU8U36]|\n",
      "|A0261431Y0V4MHWY4B7W|        [B001PQDUA0]|\n",
      "+--------------------+--------------------+\n",
      "only showing top 20 rows\n",
      "\n"
     ]
    }
   ],
   "source": [
    "rec_rev_df.show()"
   ]
  },
  {
   "cell_type": "code",
   "execution_count": 284,
   "id": "5d70d705-1fdf-4126-b533-fb2c116ab46e",
   "metadata": {
    "tags": []
   },
   "outputs": [
    {
     "name": "stdout",
     "output_type": "stream",
     "text": [
      "Root-mean-square error = 3.835866196251924\n"
     ]
    }
   ],
   "source": [
    "from pyspark.ml.evaluation import RegressionEvaluator\n",
    "from pyspark.ml.recommendation import ALS\n",
    "from pyspark.ml.feature import StringIndexer\n",
    "data = review_df.select(\"reviewerID\", \"asin\", \"overall\")\n",
    "\n",
    "indexer_reviewer = StringIndexer(inputCol=\"reviewerID\", outputCol=\"reviewerIDIndex\").fit(data)\n",
    "indexer_asin = StringIndexer(inputCol=\"asin\", outputCol=\"asinIndex\").fit(data)\n",
    "\n",
    "data_indexed = indexer_reviewer.transform(indexer_asin.transform(data))\n",
    "\n",
    "# Split the data into training and testing sets\n",
    "(trainingData, testData) = data_indexed.randomSplit([0.8, 0.2])\n",
    "\n",
    "\n",
    "# Build the recommendation model using ALS\n",
    "als = ALS(maxIter=10, regParam=0.05, rank=20, userCol=\"reviewerIDIndex\", itemCol=\"asinIndex\", ratingCol=\"overall\", coldStartStrategy=\"drop\")\n",
    "model = als.fit(trainingData)\n",
    "\n",
    "# Evaluate the model on the test set\n",
    "predictions = model.transform(testData)\n",
    "\n",
    "# Evaluate using RegressionEvaluator\n",
    "evaluator = RegressionEvaluator(metricName=\"rmse\", labelCol=\"overall\", predictionCol=\"prediction\")\n",
    "rmse = evaluator.evaluate(predictions)\n",
    "print(\"Root-mean-square error = \" + str(rmse))"
   ]
  },
  {
   "cell_type": "markdown",
   "id": "9bc87a9e-ae45-4d46-bbf9-d1e906c4dadb",
   "metadata": {},
   "source": [
    "### Very high RMSE (Our observations)\n",
    "1. There's two many products, and not sufficient data points for the ratings.. i.e. data is VERY SPARSE.\n",
    "2. The features used to represent users and items may not capture the underlying patterns or preferences effectively."
   ]
  },
  {
   "cell_type": "code",
   "execution_count": 285,
   "id": "bff951ab-17cd-495d-85e1-e190746cd81b",
   "metadata": {
    "tags": []
   },
   "outputs": [
    {
     "name": "stdout",
     "output_type": "stream",
     "text": [
      "+--------------+----------+-------+---------+---------------+-----------+\n",
      "|    reviewerID|      asin|overall|asinIndex|reviewerIDIndex| prediction|\n",
      "+--------------+----------+-------+---------+---------------+-----------+\n",
      "|A3P9GXL2BDXKQF|B004XLE0I0|    4.0|   1580.0|          358.0|  2.5919213|\n",
      "| AR8AC8KLBQJVT|B00L4GDO34|    5.0|   2142.0|          406.0|  0.7178713|\n",
      "|A347YYQI2YXNK2|B00L4GDO34|    5.0|   2142.0|         1212.0| -1.5146973|\n",
      "|A3HLIVR8UY72P6|B00O7U6I0A|    5.0|    148.0|         1294.0|  1.5149769|\n",
      "| A7ZTFAIY40BG9|B00N9DLM1Q|    4.0|   1591.0|         1396.0|-0.42266208|\n",
      "| AVBBCE17U5204|B00V9ID8TW|    1.0|   9427.0|         1546.0|-0.19954652|\n",
      "| A18KHSTC0MXIV|B00HNEJHSM|    5.0|   4900.0|         1743.0|  3.4458616|\n",
      "|A3JX1D26WFEXOS|B00N9DLM1Q|    5.0|   1591.0|         3283.0|  1.0481702|\n",
      "| AD44H3YP65YHL|B004XLE0I0|    5.0|   1580.0|         3670.0|-0.37050393|\n",
      "|A1E0HMNY2RE294|B00DZU7LGS|    5.0|   3749.0|         5038.0| -0.4471658|\n",
      "|A1HX8XOQCWR43Y|B004XLE0I0|    5.0|   1580.0|         5327.0|  1.2077082|\n",
      "|A1JXTCIZMXNT37|B00O7U6I0A|    5.0|    148.0|         5461.0|-0.24462418|\n",
      "|A2N8V8ENQS7OHM|B0053Y3A4G|    5.0|    471.0|         8108.0|  3.9351795|\n",
      "|A2W7NOEOMFTPN6|B00O7U6I0A|    5.0|    148.0|         8658.0|-0.10348322|\n",
      "|A34YZ4KGM5QO04|B00DZU7LGS|    4.0|   3749.0|         9278.0|  3.5704584|\n",
      "|A3D8DVVSVP7YLY|B0121CFQ4E|    3.0|    496.0|         9825.0|  1.3371906|\n",
      "|A3EE228Y5F7WYY|B0019R6ACA|    1.0|   1959.0|         9902.0| -0.8705858|\n",
      "| A6EHN11UMVNAQ|B0053Y3A4G|    5.0|    471.0|        11334.0|  1.6747098|\n",
      "| ADF84TEYJWWXU|B00DQVWXQ4|    5.0|   4101.0|        11825.0| -0.5027418|\n",
      "| AVZWWYWQKT2ZM|B00IPPUPG6|    5.0|   2366.0|        13048.0| -0.8702903|\n",
      "+--------------+----------+-------+---------+---------------+-----------+\n",
      "only showing top 20 rows\n",
      "\n"
     ]
    }
   ],
   "source": [
    "predictions.show()"
   ]
  },
  {
   "cell_type": "markdown",
   "id": "d7a86496-121a-43a2-8036-e16885fa1409",
   "metadata": {},
   "source": [
    "### There's a smaller dataset in which each product is rated atleast n times called n-core dataset. This will decrease the sparseness"
   ]
  },
  {
   "cell_type": "code",
   "execution_count": 52,
   "id": "f24b2748-8c80-4f9c-a08b-dd0306ec97ac",
   "metadata": {
    "tags": []
   },
   "outputs": [],
   "source": [
    "app_review_df = spark.read.json('D:\\\\DE\\\\Appliances_5.json')"
   ]
  },
  {
   "cell_type": "markdown",
   "id": "1f281d0d-8723-48d1-90ce-aee743d62093",
   "metadata": {},
   "source": [
    "### Prepare inverse dictionaries for understanding inferences."
   ]
  },
  {
   "cell_type": "code",
   "execution_count": 53,
   "id": "c26ff747-8ea5-43ed-bb3c-50fdc30eefb8",
   "metadata": {
    "tags": []
   },
   "outputs": [],
   "source": [
    "from pyspark.ml.evaluation import RegressionEvaluator\n",
    "from pyspark.ml.recommendation import ALS\n",
    "from pyspark.ml.feature import StringIndexer\n",
    "data = app_review_df.select(\"reviewerID\", \"asin\", \"overall\")\n",
    "\n",
    "indexer_reviewer = StringIndexer(inputCol=\"reviewerID\", outputCol=\"reviewerIDIndex\").fit(data)\n",
    "indexer_asin = StringIndexer(inputCol=\"asin\", outputCol=\"asinIndex\").fit(data)\n",
    "\n",
    "data_indexed = indexer_reviewer.transform(indexer_asin.transform(data))"
   ]
  },
  {
   "cell_type": "code",
   "execution_count": 167,
   "id": "19bc7606-79f4-4ff1-94d2-b7af40769e53",
   "metadata": {
    "tags": []
   },
   "outputs": [
    {
     "name": "stdout",
     "output_type": "stream",
     "text": [
      "+--------------+----------+-------+---------+---------------+\n",
      "|    reviewerID|      asin|overall|asinIndex|reviewerIDIndex|\n",
      "+--------------+----------+-------+---------+---------------+\n",
      "|A34A1UP40713F8|B00009W3I4|    5.0|     41.0|           24.0|\n",
      "|A1AHW6I678O6F2|B00009W3PA|    5.0|     19.0|           28.0|\n",
      "| A8R48NKTGCJDQ|B00009W3PA|    5.0|     19.0|           43.0|\n",
      "| AR3OHHHW01A8E|B00009W3PA|    5.0|     19.0|           45.0|\n",
      "|A2CIEGHZ7L1WWR|B00009W3PA|    5.0|     19.0|           22.0|\n",
      "|A1RQQV9HYHDHDN|B00009W3PA|    5.0|     19.0|           33.0|\n",
      "|A1OB2H416ARLFJ|B0009GVYNW|    4.0|     42.0|           32.0|\n",
      "|A3LGZ8M29PBNGG|B000N6302Q|    2.0|      8.0|           25.0|\n",
      "|A3LGZ8M29PBNGG|B000N6302Q|    2.0|      8.0|           25.0|\n",
      "|A3SM7H70QI3TY8|B000N6302Q|    1.0|      8.0|           42.0|\n",
      "+--------------+----------+-------+---------+---------------+\n",
      "only showing top 10 rows\n",
      "\n"
     ]
    }
   ],
   "source": [
    "data_indexed.show(10)"
   ]
  },
  {
   "cell_type": "code",
   "execution_count": 54,
   "id": "5e967f86-afd0-4229-ab9e-5c50d59cda77",
   "metadata": {
    "tags": []
   },
   "outputs": [],
   "source": [
    "reviewer_extract = data_indexed.select(\"reviewerIDIndex\", \"reviewerID\").rdd.collectAsMap()\n",
    "product_extract = data_indexed.select(\"asinIndex\", \"asin\").rdd.collectAsMap()"
   ]
  },
  {
   "cell_type": "code",
   "execution_count": 169,
   "id": "77a06441-1530-489e-bf24-860ed0208c8c",
   "metadata": {
    "tags": []
   },
   "outputs": [
    {
     "name": "stdout",
     "output_type": "stream",
     "text": [
      "Root-mean-square error = 0.24736820121754927\n"
     ]
    }
   ],
   "source": [
    "# Split the data into training and testing sets\n",
    "(trainingData, testData) = data_indexed.randomSplit([0.8, 0.2])\n",
    "\n",
    "\n",
    "# Build the recommendation model using ALS\n",
    "als = ALS(maxIter=10, regParam=0.05, rank=20, userCol=\"reviewerIDIndex\", itemCol=\"asinIndex\", ratingCol=\"overall\", coldStartStrategy=\"drop\")\n",
    "model = als.fit(trainingData)\n",
    "\n",
    "# Evaluate the model on the test set\n",
    "predictions = model.transform(testData)\n",
    "\n",
    "# Evaluate using RegressionEvaluator\n",
    "evaluator = RegressionEvaluator(metricName=\"rmse\", labelCol=\"overall\", predictionCol=\"prediction\")\n",
    "rmse = evaluator.evaluate(predictions)\n",
    "print(\"Root-mean-square error = \" + str(rmse))"
   ]
  },
  {
   "cell_type": "code",
   "execution_count": 170,
   "id": "a59d7514-afe7-40c8-af1a-bb4ae7158ed4",
   "metadata": {
    "tags": []
   },
   "outputs": [],
   "source": [
    "model.save('recommendation_model')"
   ]
  },
  {
   "cell_type": "code",
   "execution_count": 171,
   "id": "e6c0d9cc-b49f-4290-b0a5-e3d640bbf686",
   "metadata": {
    "tags": []
   },
   "outputs": [
    {
     "name": "stdout",
     "output_type": "stream",
     "text": [
      "+--------------+----------+-------+---------+---------------+----------+\n",
      "|    reviewerID|      asin|overall|asinIndex|reviewerIDIndex|prediction|\n",
      "+--------------+----------+-------+---------+---------------+----------+\n",
      "| AFUVGAUNQVT0S|B00DM8KQ2Y|    5.0|     31.0|           27.0| 4.9467645|\n",
      "|A3GP2HMB2AFOKF|B00W4YKCGC|    5.0|     26.0|           12.0|   3.94891|\n",
      "|A34A1UP40713F8|B000VL060M|    5.0|     27.0|           24.0| 4.9379067|\n",
      "|A3B1B4E184FSUZ|B000VL060M|    5.0|     27.0|           39.0| 4.9829965|\n",
      "|A3H61AMBJ177DG|B00W4YKCGC|    5.0|     26.0|           40.0| 4.5555973|\n",
      "|A2CIEGHZ7L1WWR|B00P9C66PM|    5.0|     12.0|           22.0| 4.7369494|\n",
      "|A1WD61B0C3KQZB|B0014CN8Y8|    4.0|      1.0|            1.0|  3.988245|\n",
      "|A21TPY9BVC9IKZ|B0014CN8Y8|    5.0|      1.0|            2.0| 4.9843636|\n",
      "|A21TPY9BVC9IKZ|B0014CN8Y8|    5.0|      1.0|            2.0| 4.9843636|\n",
      "|A25C30G90PKSQA|B0014CN8Y8|    3.0|      1.0|            3.0| 2.9911475|\n",
      "|A3TMNU7VNK5JJE|B0014CN8Y8|    3.0|      1.0|            6.0|  2.991184|\n",
      "|A3VYM3NY7W4MX4|B0014CN8Y8|    5.0|      1.0|            7.0| 4.9852705|\n",
      "| AMY6O4Z9HINO0|B0014CN8Y8|    5.0|      1.0|            9.0| 4.9843636|\n",
      "| AMY6O4Z9HINO0|B0014CN8Y8|    5.0|      1.0|            9.0| 4.9843636|\n",
      "|A3NHUQ33CFH3VM|B0014CN8Y8|    5.0|      1.0|           26.0| 4.9957213|\n",
      "|A3NHUQ33CFH3VM|B00126NABC|    3.0|     13.0|           26.0| 2.9992495|\n",
      "|A26Y776G7VVBCQ|B00126NABC|    4.0|     13.0|           35.0|  3.992412|\n",
      "|A37DQO5LU8DXTV|B0056I99WG|    5.0|      6.0|           11.0|  4.837123|\n",
      "|A37DQO5LU8DXTV|B00570RQ0A|    5.0|     16.0|           11.0|   4.83953|\n",
      "|A1HWFUO5PKB2RW|B0056I99WG|    1.0|      6.0|           31.0| 2.5370767|\n",
      "+--------------+----------+-------+---------+---------------+----------+\n",
      "only showing top 20 rows\n",
      "\n"
     ]
    }
   ],
   "source": [
    "predictions.show()"
   ]
  },
  {
   "cell_type": "markdown",
   "id": "d3f29217-5004-4305-b228-560ab5b07d94",
   "metadata": {},
   "source": [
    "### Better predicted ratings and better RMSE"
   ]
  },
  {
   "cell_type": "code",
   "execution_count": 62,
   "id": "36e3124d-7b2a-4efc-a3e1-a0f59f1b3741",
   "metadata": {
    "tags": []
   },
   "outputs": [],
   "source": [
    "model = ALSModel.load('recommendation_model')"
   ]
  },
  {
   "cell_type": "code",
   "execution_count": 63,
   "id": "4b12d4a7-9fac-4c2b-a99d-07dbc77919c8",
   "metadata": {
    "tags": []
   },
   "outputs": [],
   "source": [
    "userRecommendations = model.recommendForAllUsers(5)"
   ]
  },
  {
   "cell_type": "code",
   "execution_count": 64,
   "id": "300fa3fc-0d3b-4432-b933-294fa16cd839",
   "metadata": {
    "tags": []
   },
   "outputs": [
    {
     "name": "stdout",
     "output_type": "stream",
     "text": [
      "+---------------+--------------------+\n",
      "|reviewerIDIndex|     recommendations|\n",
      "+---------------+--------------------+\n",
      "|             31|[{29, 3.022098}, ...|\n",
      "|             34|[{10, 5.0124607},...|\n",
      "|             44|[{15, 2.0642352},...|\n",
      "|             12|[{15, 5.028592}, ...|\n",
      "|             22|[{7, 4.990601}, {...|\n",
      "|              1|[{0, 3.9889052}, ...|\n",
      "|             20|[{9, 5.011782}, {...|\n",
      "|             40|[{10, 5.017848}, ...|\n",
      "|              5|[{0, 4.9861264}, ...|\n",
      "|             41|[{10, 5.1827087},...|\n",
      "|             15|[{14, 4.9821863},...|\n",
      "|             35|[{16, 4.920385}, ...|\n",
      "|              4|[{0, 4.986127}, {...|\n",
      "|             10|[{10, 5.066965}, ...|\n",
      "|             45|[{3, 4.9898977}, ...|\n",
      "|             25|[{36, 1.9787132},...|\n",
      "|             24|[{27, 4.9379067},...|\n",
      "|             21|[{35, 4.9659767},...|\n",
      "|             32|[{42, 3.9764478},...|\n",
      "|             11|[{10, 5.106659}, ...|\n",
      "+---------------+--------------------+\n",
      "only showing top 20 rows\n",
      "\n"
     ]
    }
   ],
   "source": [
    "userRecommendations.show()"
   ]
  },
  {
   "cell_type": "code",
   "execution_count": 300,
   "id": "403e146e-cd0c-4dec-9a10-8938a95353e1",
   "metadata": {
    "tags": []
   },
   "outputs": [
    {
     "name": "stdout",
     "output_type": "stream",
     "text": [
      "root\n",
      " |-- reviewerIDIndex: integer (nullable = false)\n",
      " |-- recommendations: array (nullable = true)\n",
      " |    |-- element: struct (containsNull = true)\n",
      " |    |    |-- asinIndex: integer (nullable = true)\n",
      " |    |    |-- rating: float (nullable = true)\n",
      "\n"
     ]
    }
   ],
   "source": [
    "userRecommendations.printSchema()"
   ]
  },
  {
   "cell_type": "code",
   "execution_count": 65,
   "id": "9f2b7f44-9ddd-4aa5-a36a-3a41b3ef1edd",
   "metadata": {
    "tags": []
   },
   "outputs": [],
   "source": [
    "rec = dict(userRecommendations.collect())"
   ]
  },
  {
   "cell_type": "code",
   "execution_count": 66,
   "id": "95fc03a8-d556-409c-b2c6-21fdf085cbd6",
   "metadata": {
    "tags": []
   },
   "outputs": [],
   "source": [
    "new_dict={}\n",
    "for key,val in rec.items():\n",
    "    result_dict=[]\n",
    "    for i in val:\n",
    "        result_dict.append(product_extract[i.asinIndex])\n",
    "    new_dict[reviewer_extract[key]]=result_dict"
   ]
  },
  {
   "cell_type": "code",
   "execution_count": 67,
   "id": "811c51e9-df99-4fe1-b66c-3869d05b9503",
   "metadata": {
    "tags": []
   },
   "outputs": [
    {
     "name": "stdin",
     "output_type": "stream",
     "text": [
      " A3NHUQ33CFH3VM\n"
     ]
    },
    {
     "name": "stdout",
     "output_type": "stream",
     "text": [
      "['B0014CN8Y8', 'B000VLI74Y', 'B0006GVNOA', 'B00126NABC', 'B0013DN4NI']\n"
     ]
    }
   ],
   "source": [
    "userId=input()\n",
    "print(new_dict[userId])"
   ]
  },
  {
   "cell_type": "markdown",
   "id": "5682eab4-dc03-47cc-bd10-a2f4f2e3631a",
   "metadata": {
    "tags": []
   },
   "source": [
    "#### Content based filtering using a cosine similarity\n",
    "#### Here we are going to use very very simple similarity metric of similarity b/w titles..\n",
    "#### We can add other features to derive the vector for similarity (Description or Features column in metadata_df)"
   ]
  },
  {
   "cell_type": "code",
   "execution_count": 68,
   "id": "e388f035-fa9e-4d9f-bd27-87f6197e6de4",
   "metadata": {
    "tags": []
   },
   "outputs": [],
   "source": [
    "title_df = metadata_df_2['asin','title']"
   ]
  },
  {
   "cell_type": "code",
   "execution_count": 70,
   "id": "c66c84c4-0bf5-4284-bca4-505e69d62b00",
   "metadata": {
    "tags": []
   },
   "outputs": [
    {
     "data": {
      "text/plain": [
       "DataFrame[asin: string, title: string]"
      ]
     },
     "execution_count": 70,
     "metadata": {},
     "output_type": "execute_result"
    }
   ],
   "source": [
    "title_df"
   ]
  },
  {
   "cell_type": "code",
   "execution_count": 71,
   "id": "72e3623f-7547-41e2-8cec-f18fd402d952",
   "metadata": {
    "tags": []
   },
   "outputs": [],
   "source": [
    "from pyspark.ml.linalg import Vectors\n",
    "from pyspark.sql.functions import col, udf\n",
    "from pyspark.sql.types import DoubleType\n",
    "from pyspark.ml import Pipeline  # Import the Pipeline class\n",
    "\n",
    "\n",
    "tokenizer = Tokenizer(inputCol=\"title\", outputCol=\"words\")\n",
    "hashingTF = HashingTF(inputCol=\"words\", outputCol=\"rawFeatures\", numFeatures=120)\n",
    "idf = IDF(inputCol=\"rawFeatures\", outputCol=\"features\")\n",
    "\n",
    "# Apply TF-IDF and compute the cosine similarity\n",
    "vector_pipeline = Pipeline(stages=[tokenizer,hashingTF,idf])"
   ]
  },
  {
   "cell_type": "code",
   "execution_count": 72,
   "id": "23a15389-816a-4d0f-96fe-9fa2a11fac32",
   "metadata": {
    "tags": []
   },
   "outputs": [],
   "source": [
    "knn=vector_pipeline.fit(title_df)"
   ]
  },
  {
   "cell_type": "code",
   "execution_count": 74,
   "id": "3fac9887-8d9f-4336-a545-b0b9faf22bfd",
   "metadata": {
    "tags": []
   },
   "outputs": [],
   "source": [
    "title_df_2=knn.transform(title_df)"
   ]
  },
  {
   "cell_type": "code",
   "execution_count": 75,
   "id": "307ce2a4-0175-41a2-95bb-77f380f50baf",
   "metadata": {
    "tags": []
   },
   "outputs": [
    {
     "name": "stdout",
     "output_type": "stream",
     "text": [
      "+----------+--------------------+--------------------+--------------------+--------------------+\n",
      "|      asin|               title|               words|         rawFeatures|            features|\n",
      "+----------+--------------------+--------------------+--------------------+--------------------+\n",
      "|7301113188|Tupperware Freeze...|[tupperware, free...|(120,[15,17,22,25...|(120,[15,17,22,25...|\n",
      "|7861850250|2 X Tupperware Pu...|[2, x, tupperware...|(120,[0,10,11,12,...|(120,[0,10,11,12,...|\n",
      "|8792559360|The Cigar - Momen...|[the, cigar, -, m...|(120,[6,15,17,28,...|(120,[6,15,17,28,...|\n",
      "|9792954481|Caraselle 2X 50G ...|[caraselle, 2x, 5...|(120,[17,34,56,64...|(120,[17,34,56,64...|\n",
      "|B00002N5EL|EATON Wiring 39CH...|[eaton, wiring, 3...|(120,[4,19,56,75,...|(120,[4,19,56,75,...|\n",
      "|B00002N7HY|Leviton 5050 B01-...|[leviton, 5050, b...|(120,[0,6,10,15,1...|(120,[0,6,10,15,1...|\n",
      "|B00002N7IL|Leviton 5206 50 A...|[leviton, 5206, 5...|(120,[0,3,6,10,14...|(120,[0,3,6,10,14...|\n",
      "|B00002N9OE|Amerock BP5322-BJ...|[amerock, bp5322-...|(120,[3,39,80,84,...|(120,[3,39,80,84,...|\n",
      "|B00002NARC|Leviton 5207 125/...|[leviton, 5207, 1...|(120,[24,34,67,69...|(120,[24,34,67,69...|\n",
      "|B00004SQHD|Coleman Cable 090...|[coleman, cable, ...|(120,[6,12,15,37,...|(120,[6,12,15,37,...|\n",
      "|B00004SQHH|Coleman Cable 091...|[coleman, cable, ...|(120,[12,15,37,53...|(120,[12,15,37,53...|\n",
      "|B00004X18E|Electricord A1459...|[electricord, a14...|(120,[4,30,51,56,...|(120,[4,30,51,56,...|\n",
      "|B00004YUMW|Leviton 5054 Drye...|[leviton, 5054, d...|(120,[4,15,41,53,...|(120,[4,15,41,53,...|\n",
      "|B00004YUMU|Leviton 5050 Indu...|[leviton, 5050, i...|(120,[3,6,8,13,38...|(120,[3,6,8,13,38...|\n",
      "|B00004YWK7|Dundas Jafine MLF...|[dundas, jafine, ...|(120,[17,32,46,47...|(120,[17,32,46,47...|\n",
      "|B00004YWK2|Dundas Jafine CHK...|[dundas, jafine, ...|(120,[3,46,47,64,...|(120,[3,46,47,64,...|\n",
      "|B000056J8D|Protec DynaFilter...|[protec, dynafilt...|(120,[8,16,46,47,...|(120,[8,16,46,47,...|\n",
      "|B00005OU6T|Holmes &quot;C&qu...|[holmes, &quot;c&...|(120,[15,16,46,73...|(120,[15,16,46,73...|\n",
      "|B00006IV17|Holmes &quot;A&qu...|[holmes, &quot;a&...|(120,[0,6,15,16,7...|(120,[0,6,15,16,7...|\n",
      "|B00006JKZX|Sanyo BC1206 Kege...|[sanyo, bc1206, k...|(120,[2,30,35,65,...|(120,[2,30,35,65,...|\n",
      "+----------+--------------------+--------------------+--------------------+--------------------+\n",
      "only showing top 20 rows\n",
      "\n"
     ]
    }
   ],
   "source": [
    "title_df_2.show()"
   ]
  },
  {
   "cell_type": "code",
   "execution_count": 76,
   "id": "8724459a-418a-4404-a740-7b1fc2439be6",
   "metadata": {
    "tags": []
   },
   "outputs": [],
   "source": [
    "#vec2 = target_vector\n",
    "@udf(returnType=DoubleType())\n",
    "def cosine_similarity(vec1,vec2):\n",
    "    vec2=Vectors.sparse(len(vec2), [(i, val) for i, val in enumerate(vec2) if val != 0])\n",
    "    # return float(vec2.norm(2))\n",
    "    dot_product = float(vec1.dot(vec2))\n",
    "    norm_product = float(vec1.norm(2) * vec2.norm(2))\n",
    "    if norm_product == 0:\n",
    "        return 0.0  # To handle division by zero\n",
    "    else:\n",
    "        return dot_product / norm_product"
   ]
  },
  {
   "cell_type": "code",
   "execution_count": 77,
   "id": "c1d5c921-ba87-40bc-99f7-cd1ac7d79ab3",
   "metadata": {
    "tags": []
   },
   "outputs": [
    {
     "name": "stdin",
     "output_type": "stream",
     "text": [
      "Product ID:  B000056J8D\n"
     ]
    },
    {
     "data": {
      "text/plain": [
       "[Row(asin='B000056J8D', title='Protec DynaFilter Humidifier Cartridge, Air Cleaning, 3 ct.'),\n",
       " Row(asin='B00QZUNNVM', title='67043-6 Admiral Refrigerator Hook P.o.'),\n",
       " Row(asin='B001KNE8XG', title='Dundas Jafine EXTVENT Extend-A- Vent Air DEF'),\n",
       " Row(asin='B00M258BJS', title='Frigidaire 154722401 Door Hook Dishwasher'),\n",
       " Row(asin='B00PU04HYA', title='Frigidaire 154652202 Dishwasher Tine Clip'),\n",
       " Row(asin='B00ANTBT58', title='EA 8182636 Kenmore/Whirlpool Washer Central Control Unit 8182636')]"
      ]
     },
     "execution_count": 77,
     "metadata": {},
     "output_type": "execute_result"
    }
   ],
   "source": [
    "from pyspark.sql.functions import desc\n",
    "recommend_product=input(\"Product ID: \")\n",
    "target_item = title_df_2.filter(col('asin')==recommend_product).first()\n",
    "target_vector=target_item[4]\n",
    "df_result = title_df_2.withColumn(\"features2\",expr(f\"array({', '.join(map(str, target_vector.toArray()))})\"))\n",
    "df_result = df_result.withColumn(\"dotProduct\",cosine_similarity('features','features2'))\n",
    "product_recommendations = df_result.select('title','asin','dotProduct').dropDuplicates().orderBy(desc('dotProduct')).limit(6).select('asin','title').collect()\n",
    "product_recommendations[:6]"
   ]
  },
  {
   "cell_type": "markdown",
   "id": "09210c64-f6e2-4749-a1c6-4bf74db44b47",
   "metadata": {},
   "source": [
    "### Final approach suggested..\n",
    "### Hybrid approach:\n",
    "1. If user is a new user i.e. cold start user and searches for a product - suggestion has to be done by similarity metric (here we only chose title because lot of cleaning of features, description columns is needed it has HTML tags and most of the fields are empty)\n",
    "2. If user's transaction/order data is available, we can use collaborative filtering methods.. as mentioned above ALS (Alternating least squares)\n",
    "3. Or show the best ranked products in each category, sub category (This is calculated during product portfolio)."
   ]
  }
 ],
 "metadata": {
  "kernelspec": {
   "display_name": "Python 3 (ipykernel)",
   "language": "python",
   "name": "python3"
  },
  "language_info": {
   "codemirror_mode": {
    "name": "ipython",
    "version": 3
   },
   "file_extension": ".py",
   "mimetype": "text/x-python",
   "name": "python",
   "nbconvert_exporter": "python",
   "pygments_lexer": "ipython3",
   "version": "3.11.5"
  }
 },
 "nbformat": 4,
 "nbformat_minor": 5
}
